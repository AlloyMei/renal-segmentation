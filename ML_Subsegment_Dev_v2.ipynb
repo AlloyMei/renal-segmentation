{
 "cells": [
  {
   "cell_type": "code",
   "execution_count": 1,
   "metadata": {
    "collapsed": false
   },
   "outputs": [],
   "source": [
    "%load_ext autoreload\n",
    "%autoreload 2\n",
    "%matplotlib inline\n",
    "import numpy as np\n",
    "import matplotlib.pyplot as plt"
   ]
  },
  {
   "cell_type": "code",
   "execution_count": 2,
   "metadata": {
    "collapsed": false
   },
   "outputs": [],
   "source": [
    "import os\n",
    "import h5py\n",
    "import time\n",
    "import pickle\n",
    "import warnings\n",
    "import subprocess\n",
    "\n",
    "from sklearn.decomposition import PCA\n",
    "from skimage.morphology import convex_hull_image\n",
    "from scipy.interpolate import interp1d\n",
    "from scipy.optimize import curve_fit\n",
    "from scipy.ndimage.filters import gaussian_filter, median_filter, maximum_filter, minimum_filter\n",
    "from scipy.stats import rankdata\n",
    "from scipy.ndimage.morphology import distance_transform_edt\n",
    "from sklearn.cluster import KMeans\n",
    "\n",
    "from Source.util import getPathsToVisit\n",
    "from Source.util import get_first_crossing_time, getBBox\n",
    "from Source.ipythonWidgets import overlayViewer, reconViewer"
   ]
  },
  {
   "cell_type": "code",
   "execution_count": 3,
   "metadata": {
    "collapsed": true
   },
   "outputs": [],
   "source": [
    "np.random.seed(42)"
   ]
  },
  {
   "cell_type": "code",
   "execution_count": 4,
   "metadata": {
    "collapsed": true
   },
   "outputs": [],
   "source": [
    "train_short = False"
   ]
  },
  {
   "cell_type": "code",
   "execution_count": null,
   "metadata": {
    "collapsed": false
   },
   "outputs": [],
   "source": [
    "pathsToVisit = getPathsToVisit('../ML/Train')\n",
    "print('Number of subjects:', len(pathsToVisit))\n",
    "\n",
    "\n",
    "features_train = []\n",
    "labels_train = []\n",
    "for subjectPath in pathsToVisit:\n",
    "    print(subjectPath)\n",
    "\n",
    "    # # Load the dataset.\n",
    "    # reconPath = os.path.join(subjectPath, 'recon_36p_crop.mat')\n",
    "    # with h5py.File(reconPath) as f:\n",
    "    #     recon = np.array(f['recon']).T\n",
    "    # temp_res = 3.0\n",
    "    # spacing = np.array([1.7, 1.4, 2.4])\n",
    "    # ss_f = [1, 1, 1, 1]\n",
    "\n",
    "    # Load the dataset.\n",
    "    reconPath = os.path.join(subjectPath, 'recon4d.hdf5')\n",
    "    with h5py.File(reconPath) as f:\n",
    "        spacing = np.array(f['spacing'])\n",
    "        temp_res = np.array(f['temp_res']).astype(np.float)/1000\n",
    "        recon = np.array(f['recon'])\n",
    "    ss_f = [2, 2, 2, 1]  # Subsampling factor [x,y,z,t]\n",
    "\n",
    "    recon = recon[::ss_f[0],::ss_f[1],::ss_f[2],::ss_f[3]]\n",
    "    spacing = np.array([ss_f[0],ss_f[1],ss_f[2]])*spacing\n",
    "    nx, ny, nz, nt = recon.shape\n",
    "    \n",
    "    \n",
    "    # Load the labels.\n",
    "    labelsPath = os.path.join(subjectPath, 'labels.hdf5')\n",
    "    with h5py.File(labelsPath) as f:\n",
    "        labels3d = np.array(f['labels'])\n",
    "    labels3d = labels3d[::ss_f[0],::ss_f[1],::ss_f[2]]\n",
    "    \n",
    "    # Generate the convex hull for the kidneys\n",
    "    convex_mask3d = labels3d.copy()\n",
    "    for cluster_id in [2, 3]:\n",
    "        cluster = convex_mask3d == cluster_id\n",
    "        for zz in range(cluster.shape[2]):\n",
    "            bm = cluster[:,:,zz]\n",
    "            if np.sum(bm) == 0:\n",
    "                continue\n",
    "            bm = convex_hull_image(bm)\n",
    "            cluster[:,:,zz] = bm > 0\n",
    "        convex_mask3d[cluster > 0] = cluster_id\n",
    "    \n",
    "    \n",
    "    for cluster_id in [2, 3]:\n",
    "        ctx_id = cluster_id\n",
    "        med_id = ctx_id+2\n",
    "        cs_id = med_id+2\n",
    "        \n",
    "        # Calculate the bounding box\n",
    "        convex_mask = convex_mask3d == cluster_id\n",
    "        if np.sum(convex_mask) == 0:\n",
    "            continue\n",
    "        bbox = getBBox(convex_mask)\n",
    "        bb_l, bb_h = bbox\n",
    "        recon_bbox = recon[bb_l[0]:bb_h[0], bb_l[1]:bb_h[1], bb_l[2]:bb_h[2], :].copy()\n",
    "        labels_bbox = labels3d[bb_l[0]:bb_h[0], bb_l[1]:bb_h[1], bb_l[2]:bb_h[2]].copy()\n",
    "        convex_mask_bbox = convex_mask[bb_l[0]:bb_h[0], bb_l[1]:bb_h[1], bb_l[2]:bb_h[2]].copy()\n",
    "\n",
    "        if issubclass(recon_bbox.dtype.type, np.integer):\n",
    "            recon_bbox -= np.amin(recon_bbox)\n",
    "            # Use look up table\n",
    "            lut = np.arange(np.amax(recon_bbox)+1).astype(np.float)\n",
    "            lut = (lut/np.amax(lut)*255).astype(np.uint8)\n",
    "            recon_bbox = lut[recon_bbox]\n",
    "        else:\n",
    "            recon_bbox -= np.amin(recon_bbox)\n",
    "            recon_bbox /= np.amax(recon_bbox)\n",
    "            recon_bbox = (recon_bbox*255).astype(np.uint8)\n",
    "            \n",
    "        labels_bbox = labels_bbox*convex_mask_bbox\n",
    "        labels_bbox[labels_bbox==ctx_id] = 1\n",
    "        labels_bbox[labels_bbox==med_id] = 2\n",
    "        labels_bbox[labels_bbox==cs_id] = 3\n",
    "        labels = labels_bbox.ravel()\n",
    "        \n",
    "        sig = recon_bbox.reshape(-1, nt)\n",
    "        mean_sig = np.mean(sig, axis=0, keepdims=True)\n",
    "\n",
    "        sample_time = np.array([0, 30, 60, 90, 120, 150, 180]) # seconds after contrast arrives\n",
    "        t_10p = get_first_crossing_time(mean_sig, 0.10)[0]\n",
    "        t_10p = np.floor(t_10p).astype(np.int)\n",
    "        t_start = max(t_10p, 0)\n",
    "        sample_idx = t_start + np.ceil(sample_time/temp_res).astype(np.int)\n",
    "        sample_idx[sample_idx > nt-1] = nt-1\n",
    "        \n",
    "        if train_short:\n",
    "            sample_time = np.array([0, 30, 60, 90]) # seconds after contrast arrives\n",
    "            t_10p = get_first_crossing_time(mean_sig, 0.10)[0]\n",
    "            t_10p = np.floor(t_10p).astype(np.int)\n",
    "            t_start = max(t_10p, 0)\n",
    "            sample_idx = t_start + np.ceil(sample_time/temp_res).astype(np.int)\n",
    "            sample_idx[sample_idx > nt-1] = nt-1\n",
    "            sig = sig[:,:sample_idx[-1]+1]\n",
    "        \n",
    "        sig_sample = sig[:,sample_idx].astype(np.float).copy()\n",
    "        \n",
    "        sig_min = np.amin(sig, axis=1, keepdims=True)\n",
    "        sig_max = np.amax(sig, axis=1, keepdims=True)\n",
    "        sig_diff = sig_max - sig_min\n",
    "        sig_sample = np.hstack((sig_sample, sig_diff))\n",
    "        \n",
    "        \n",
    "#         for ff in range(sig_sample.shape[1]):\n",
    "#             sig_sample[:,ff] = rankdata(sig_sample[:,ff])/sig_sample.shape[0]\n",
    "        \n",
    "        sig_sample -= np.mean(sig_sample, axis=0, keepdims=True)\n",
    "        sig_sample /= np.std(sig_sample, axis=0, keepdims=True)\n",
    "\n",
    "        t_ref = get_first_crossing_time(mean_sig, 0.10)[0]\n",
    "        t_50p = (get_first_crossing_time(sig, 0.50) - t_ref)*temp_res\n",
    "        t_90p = (get_first_crossing_time(sig, 0.90) - t_ref)*temp_res\n",
    "        t_feat = np.vstack((t_50p, t_90p)).T\n",
    "        \n",
    "        \n",
    "#         t_dist = []\n",
    "#         for i in range(t_feat.shape[1]):\n",
    "#             t_select = t_feat[:,i].copy()\n",
    "#             t_select[convex_mask_bbox.ravel()==0] = np.amin(t_select)\n",
    "#             kmeans = KMeans(n_clusters=4)\n",
    "#             t_select_dist= kmeans.fit_transform(t_select.reshape(-1,1))\n",
    "#             cluster_centers = kmeans.cluster_centers_.copy()\n",
    "#             relabel = rankdata(cluster_centers, method='ordinal').astype(np.int)-1\n",
    "#             t_select_dist_reordered = np.zeros_like(t_select_dist)\n",
    "#             for j in range(t_select_dist.shape[1]):\n",
    "#                 t_select_dist_reordered[:,relabel[j]] = t_select_dist[:,j]\n",
    "#             t_dist.append(t_select_dist_reordered)\n",
    "#         t_dist = np.hstack(t_dist) \n",
    "        \n",
    "        \n",
    "        dist = distance_transform_edt(convex_mask_bbox, sampling=spacing).reshape(-1,1)\n",
    "        \n",
    "        features = np.hstack((sig_sample, t_feat, dist))\n",
    "        \n",
    "#         num_samples_select = 10000\n",
    "#         select_idx = np.random.choice(np.arange(features.shape[0]), size=num_samples_select, replace=True)\n",
    "#         features_sel = features[select_idx, :]\n",
    "#         labels_sel = labels[select_idx]\n",
    "        \n",
    "        features_train.append(features)\n",
    "        labels_train.append(labels)\n",
    "\n",
    "features_train = np.vstack(features_train)\n",
    "labels_train = np.hstack(labels_train)\n",
    "\n",
    "outputPath = os.path.join('..', 'ML', 'train.hdf5')\n",
    "with h5py.File(outputPath, 'w') as f:\n",
    "    dset = f.create_dataset('features', data=features_train, compression='gzip')\n",
    "    dset = f.create_dataset('labels', data=labels_train, compression='gzip')"
   ]
  },
  {
   "cell_type": "code",
   "execution_count": 5,
   "metadata": {
    "collapsed": false
   },
   "outputs": [],
   "source": [
    "inputPath = os.path.join('..', 'ML', 'train.hdf5')\n",
    "with h5py.File(inputPath) as f:\n",
    "    features_all = np.array(f['features'])\n",
    "    labels_all = np.array(f['labels'])"
   ]
  },
  {
   "cell_type": "code",
   "execution_count": null,
   "metadata": {
    "collapsed": true
   },
   "outputs": [],
   "source": []
  },
  {
   "cell_type": "code",
   "execution_count": 6,
   "metadata": {
    "collapsed": false
   },
   "outputs": [
    {
     "data": {
      "text/plain": [
       "[<matplotlib.lines.Line2D at 0x10a632470>]"
      ]
     },
     "execution_count": 6,
     "metadata": {},
     "output_type": "execute_result"
    },
    {
     "data": {
      "image/png": "[encoded data removed]",
      "text/plain": [
       "<matplotlib.figure.Figure at 0x10a61fda0>"
      ]
     },
     "metadata": {},
     "output_type": "display_data"
    }
   ],
   "source": [
    "plt.figure()\n",
    "num_select = 1000\n",
    "feat = 7\n",
    "idx_pos = np.random.choice(np.where(labels_all==1)[0], num_select//2)\n",
    "idx_neg = np.random.choice(np.where(labels_all==0)[0], num_select//2)\n",
    "plt.plot(features_all[idx_pos,feat], 'ro')\n",
    "plt.plot(features_all[idx_neg,feat], 'bo')"
   ]
  },
  {
   "cell_type": "code",
   "execution_count": null,
   "metadata": {
    "collapsed": true
   },
   "outputs": [],
   "source": []
  },
  {
   "cell_type": "code",
   "execution_count": 7,
   "metadata": {
    "collapsed": true
   },
   "outputs": [],
   "source": [
    "from sklearn.metrics import classification_report\n",
    "from sklearn.svm import SVC\n",
    "from sklearn.ensemble import RandomForestClassifier, AdaBoostClassifier\n",
    "from sklearn.cross_validation import train_test_split"
   ]
  },
  {
   "cell_type": "code",
   "execution_count": 16,
   "metadata": {
    "collapsed": false
   },
   "outputs": [
    {
     "name": "stdout",
     "output_type": "stream",
     "text": [
      "(10177, 11)\n"
     ]
    }
   ],
   "source": [
    "# # Split the dataset in two equal parts\n",
    "# X_train, X_test, y_train, y_test = train_test_split(\n",
    "#     features_all, labels_all, test_size=0.989, random_state=3)\n",
    "# print(X_train.shape)"
   ]
  },
  {
   "cell_type": "code",
   "execution_count": 17,
   "metadata": {
    "collapsed": false
   },
   "outputs": [
    {
     "name": "stdout",
     "output_type": "stream",
     "text": [
      "             precision    recall  f1-score   support\n",
      "\n",
      "          0       0.97      0.97      0.97      6429\n",
      "          1       0.85      0.91      0.88      2410\n",
      "          2       0.79      0.64      0.71       725\n",
      "          3       0.85      0.85      0.85       613\n",
      "\n",
      "avg / total       0.93      0.93      0.92     10177\n",
      "\n",
      "             precision    recall  f1-score   support\n",
      "\n",
      "          0       0.97      0.96      0.97    579329\n",
      "          1       0.84      0.90      0.87    213660\n",
      "          2       0.77      0.64      0.70     69858\n",
      "          3       0.80      0.79      0.80     52159\n",
      "\n",
      "avg / total       0.91      0.91      0.91    915006\n",
      "\n"
     ]
    }
   ],
   "source": [
    "# classifier = SVC(kernel='linear', C=10)\n",
    "# classifier = SVC(kernel='rbf', C=10)\n",
    "classifier = SVC(kernel='rbf', C=10, gamma=0.1)\n",
    "\n",
    "num_select = 10000\n",
    "np.random.seed(42)\n",
    "idx_sel = np.random.choice(np.arange(features_all.shape[0]), num_select)\n",
    "features_sel = features_all[idx_sel,:]\n",
    "labels_sel = labels_all[idx_sel]\n",
    "\n",
    "# Split the dataset in two equal parts\n",
    "X_train, X_test, y_train, y_test = train_test_split(\n",
    "    features_sel, labels_sel, test_size=0.5, random_state=3)\n",
    "\n",
    "X_mean = np.mean(X_train, axis=0, keepdims=True)\n",
    "X_std = np.std(X_train, axis=0, keepdims=True)\n",
    "X_train -= X_mean\n",
    "X_train /= X_std\n",
    "X_test -= X_mean\n",
    "X_test /= X_std\n",
    "\n",
    "\n",
    "classifier.fit(X_train, y_train)\n",
    "pred_train = classifier.predict(X_train)\n",
    "pred_test = classifier.predict(X_test)\n",
    "\n",
    "print(classification_report(y_train, pred_train))\n",
    "print(classification_report(y_test, pred_test))"
   ]
  },
  {
   "cell_type": "code",
   "execution_count": 11,
   "metadata": {
    "collapsed": true
   },
   "outputs": [],
   "source": [
    "import pickle\n",
    "\n",
    "model = {}\n",
    "model['classifier'] = classifier\n",
    "model['mean'] = X_mean\n",
    "model['std'] = X_std\n",
    "\n",
    "if train_short:\n",
    "    model_filename = os.path.join(os.getcwd(), '../Model', 'subsegment_model_90.pkl')\n",
    "else:\n",
    "    model_filename = os.path.join(os.getcwd(), '../Model', 'subsegment_model_180.pkl')\n",
    "\n",
    "with open(model_filename, 'wb') as f:\n",
    "    pickle.dump(model, f)"
   ]
  },
  {
   "cell_type": "code",
   "execution_count": 12,
   "metadata": {
    "collapsed": true
   },
   "outputs": [],
   "source": [
    "with open(model_filename, 'rb') as f:\n",
    "    model2 = pickle.load(f)"
   ]
  },
  {
   "cell_type": "code",
   "execution_count": 13,
   "metadata": {
    "collapsed": false
   },
   "outputs": [
    {
     "data": {
      "text/plain": [
       "{'classifier': SVC(C=10, cache_size=200, class_weight=None, coef0=0.0, degree=3, gamma=0.1,\n",
       "   kernel='rbf', max_iter=-1, probability=False, random_state=None,\n",
       "   shrinking=True, tol=0.001, verbose=False),\n",
       " 'mean': array([[ -1.18583635e-02,   2.85547461e-03,  -3.96282764e-05,\n",
       "          -2.48503487e-03,  -4.79743522e-03,  -4.39042059e-03,\n",
       "          -8.10190040e-03,  -3.52822405e-03,   2.55660161e+01,\n",
       "           9.52287179e+01,   2.99967905e+00]]),\n",
       " 'std': array([[  0.99873599,   0.99666075,   0.99358505,   0.98681498,\n",
       "           0.99222262,   0.9882177 ,   0.99164924,   0.99317097,\n",
       "          45.28821426,  74.90282987,   4.89445245]])}"
      ]
     },
     "execution_count": 13,
     "metadata": {},
     "output_type": "execute_result"
    }
   ],
   "source": [
    "model2"
   ]
  },
  {
   "cell_type": "code",
   "execution_count": null,
   "metadata": {
    "collapsed": true
   },
   "outputs": [],
   "source": []
  },
  {
   "cell_type": "code",
   "execution_count": null,
   "metadata": {
    "collapsed": true
   },
   "outputs": [],
   "source": []
  },
  {
   "cell_type": "code",
   "execution_count": 9,
   "metadata": {
    "collapsed": false
   },
   "outputs": [
    {
     "name": "stdout",
     "output_type": "stream",
     "text": [
      "# Tuning hyper-parameters for f1\n",
      "\n",
      "Best parameters set found on development set:\n",
      "\n",
      "{'gamma': 0.1, 'C': 10, 'kernel': 'rbf'}\n",
      "\n",
      "Grid scores on development set:\n",
      "\n",
      "0.875 (+/-0.016) for {'gamma': 0.01, 'C': 1, 'kernel': 'rbf'}\n",
      "0.891 (+/-0.015) for {'gamma': 0.1, 'C': 1, 'kernel': 'rbf'}\n",
      "0.887 (+/-0.018) for {'gamma': 1, 'C': 1, 'kernel': 'rbf'}\n",
      "0.889 (+/-0.015) for {'gamma': 0.01, 'C': 10, 'kernel': 'rbf'}\n",
      "0.900 (+/-0.011) for {'gamma': 0.1, 'C': 10, 'kernel': 'rbf'}\n",
      "0.883 (+/-0.013) for {'gamma': 1, 'C': 10, 'kernel': 'rbf'}\n",
      "0.895 (+/-0.012) for {'gamma': 0.01, 'C': 100, 'kernel': 'rbf'}\n",
      "0.896 (+/-0.013) for {'gamma': 0.1, 'C': 100, 'kernel': 'rbf'}\n",
      "0.868 (+/-0.015) for {'gamma': 1, 'C': 100, 'kernel': 'rbf'}\n",
      "\n",
      "Detailed classification report:\n",
      "\n",
      "The model is trained on the full development set.\n",
      "The scores are computed on the full evaluation set.\n",
      "\n",
      "             precision    recall  f1-score   support\n",
      "\n",
      "          0       0.98      0.96      0.97      3218\n",
      "          1       0.84      0.91      0.87      1173\n",
      "          2       0.75      0.66      0.70       329\n",
      "          3       0.74      0.77      0.76       280\n",
      "\n",
      "avg / total       0.92      0.92      0.92      5000\n",
      "\n",
      "\n",
      "The model is trained on the full development set.\n",
      "The scores are computed on the full data set.\n",
      "\n",
      "             precision    recall  f1-score   support\n",
      "\n",
      "          0       0.98      0.96      0.97      6375\n",
      "          1       0.84      0.91      0.87      2373\n",
      "          2       0.74      0.65      0.69       701\n",
      "          3       0.74      0.78      0.76       551\n",
      "\n",
      "avg / total       0.92      0.91      0.91     10000\n",
      "\n",
      "\n"
     ]
    }
   ],
   "source": [
    "from sklearn.cross_validation import train_test_split\n",
    "from sklearn.grid_search import GridSearchCV\n",
    "import warnings\n",
    "\n",
    "# Split the dataset in two equal parts\n",
    "X_train, X_test, y_train, y_test = train_test_split(\n",
    "    features_sel, labels_sel, test_size=0.5, random_state=3)\n",
    "X_mean = np.mean(X_train, axis=0, keepdims=True)\n",
    "X_std = np.std(X_train, axis=0, keepdims=True)\n",
    "X_train -= X_mean\n",
    "X_train /= X_std\n",
    "X_test -= X_mean\n",
    "X_test /= X_std\n",
    "X_all = np.vstack((X_train, X_test))\n",
    "y_all = np.hstack((y_train, y_test))\n",
    "\n",
    "tuned_parameters = [{'kernel': ['rbf'], 'gamma': [0.01, 0.1, 1],\n",
    "                     'C': [1, 10, 100]},\n",
    "#                     {'kernel': ['linear'], 'C': [1, 10]},\n",
    "                   ]\n",
    "scores = ['f1']\n",
    "# scores = ['f1', 'precision', 'recall']\n",
    "\n",
    "with warnings.catch_warnings():\n",
    "    warnings.simplefilter('ignore')\n",
    "    for score in scores:\n",
    "        print(\"# Tuning hyper-parameters for %s\" % score)\n",
    "        print()\n",
    "\n",
    "        if 'custom' in score:\n",
    "            clf = GridSearchCV(SVC(C=1), tuned_parameters, cv=5, scoring=scorer)\n",
    "        else:\n",
    "            clf = GridSearchCV(SVC(C=1), tuned_parameters, cv=5, \n",
    "                               scoring='%s_weighted' % score)\n",
    "        \n",
    "        clf.fit(X_train, y_train)\n",
    "\n",
    "        print(\"Best parameters set found on development set:\")\n",
    "        print()\n",
    "        print(clf.best_params_)\n",
    "        print()\n",
    "        print(\"Grid scores on development set:\")\n",
    "        print()\n",
    "        for params, mean_score, scores in clf.grid_scores_:\n",
    "            print(\"%0.3f (+/-%0.03f) for %r\"\n",
    "                  % (mean_score, scores.std() * 2, params))\n",
    "        print()\n",
    "\n",
    "        print(\"Detailed classification report:\")\n",
    "        print()\n",
    "        print(\"The model is trained on the full development set.\")\n",
    "        print(\"The scores are computed on the full evaluation set.\")\n",
    "        print()\n",
    "        y_true, y_pred = y_test, clf.predict(X_test)\n",
    "        print(classification_report(y_true, y_pred))\n",
    "        print()\n",
    "        \n",
    "        \n",
    "        print(\"The model is trained on the full development set.\")\n",
    "        print(\"The scores are computed on the full data set.\")\n",
    "        print()\n",
    "        y_true, y_pred = y_all, clf.predict(X_all)\n",
    "        print(classification_report(y_true, y_pred))\n",
    "        print()"
   ]
  },
  {
   "cell_type": "code",
   "execution_count": null,
   "metadata": {
    "collapsed": true
   },
   "outputs": [],
   "source": []
  },
  {
   "cell_type": "code",
   "execution_count": 61,
   "metadata": {
    "collapsed": false
   },
   "outputs": [
    {
     "name": "stdout",
     "output_type": "stream",
     "text": [
      "Number of subjects: 4\n",
      "/Users/umityoruk/Documents/PythonDev/NewSegmentation/Data3/01\n"
     ]
    }
   ],
   "source": [
    "# Load a full dataset and test the classifier\n",
    "\n",
    "# pathsToVisit = getPathsToVisit('../ML/Train')\n",
    "pathsToVisit = getPathsToVisit('../Data3')\n",
    "print('Number of subjects:', len(pathsToVisit))\n",
    "\n",
    "features_train = []\n",
    "labels_train = []\n",
    "subjectPath = pathsToVisit[0]\n",
    "print(subjectPath)\n",
    "\n",
    "\n",
    "# # Load the dataset.\n",
    "# reconPath = os.path.join(subjectPath, 'recon_36p_crop.mat')\n",
    "# with h5py.File(reconPath) as f:\n",
    "#     recon = np.array(f['recon']).T\n",
    "# temp_res = 3.0\n",
    "# spacing = np.array([1.7, 1.4, 2.4])\n",
    "# ss_f = [1, 1, 1, 1]\n",
    "\n",
    "\n",
    "# # Load the dataset.\n",
    "# reconPath = os.path.join(subjectPath, 'recon4d.hdf5')\n",
    "# with h5py.File(reconPath) as f:\n",
    "#     spacing = np.array(f['spacing'])\n",
    "#     temp_res = np.array(f['temp_res']).astype(np.float)/1000\n",
    "#     recon = np.array(f['recon'])\n",
    "# ss_f = [2, 2, 2, 1]  # Subsampling factor [x,y,z,t]\n",
    "\n",
    "\n",
    "# Load the dataset.\n",
    "reconPath = os.path.join(subjectPath, 'recon4d.hdf5')\n",
    "with h5py.File(reconPath) as f:\n",
    "    spacing = np.array(f['spacing'])\n",
    "    temp_res = np.array(f['temp_res']).astype(np.float)/1000\n",
    "    recon = np.array(f['recon'])\n",
    "ss_f = [1, 1, 1, 1]\n",
    "\n",
    "\n",
    "recon = recon[::ss_f[0],::ss_f[1],::ss_f[2],::ss_f[3]]\n",
    "spacing = np.array([ss_f[0],ss_f[1],ss_f[2]])*spacing\n",
    "nx, ny, nz, nt = recon.shape\n",
    "\n",
    "\n",
    "# Load the labels.\n",
    "labelsPath = os.path.join(subjectPath, 'labels.hdf5')\n",
    "with h5py.File(labelsPath) as f:\n",
    "    labels3d = np.array(f['labels'])\n",
    "labels3d = labels3d[::ss_f[0],::ss_f[1],::ss_f[2]]\n",
    "\n",
    "# Generate the convex hull for the kidneys\n",
    "convex_mask3d = labels3d.copy()\n",
    "for cluster_id in [2, 3]:\n",
    "    cluster = convex_mask3d == cluster_id\n",
    "    for zz in range(cluster.shape[2]):\n",
    "        bm = cluster[:,:,zz]\n",
    "        if np.sum(bm) == 0:\n",
    "            continue\n",
    "        bm = convex_hull_image(bm)\n",
    "        cluster[:,:,zz] = bm > 0\n",
    "    convex_mask3d[cluster > 0] = cluster_id"
   ]
  },
  {
   "cell_type": "code",
   "execution_count": 62,
   "metadata": {
    "collapsed": false
   },
   "outputs": [
    {
     "name": "stdout",
     "output_type": "stream",
     "text": [
      "180 seconds\n",
      "             precision    recall  f1-score   support\n",
      "\n",
      "          0       0.94      0.97      0.95     27752\n",
      "          1       0.89      0.85      0.87     16530\n",
      "          2       0.52      0.42      0.46      1919\n",
      "          3       0.43      0.51      0.46       839\n",
      "\n",
      "avg / total       0.89      0.90      0.89     47040\n",
      "\n",
      "180 seconds\n",
      "             precision    recall  f1-score   support\n",
      "\n",
      "          0       0.95      0.98      0.97     15031\n",
      "          1       0.87      0.82      0.84      5430\n",
      "          2       0.73      0.54      0.62      1092\n",
      "          3       0.36      0.36      0.36       255\n",
      "\n",
      "avg / total       0.91      0.91      0.91     21808\n",
      "\n"
     ]
    }
   ],
   "source": [
    "prediction3d = np.zeros((nx, ny, nz), dtype=np.int)\n",
    "for cluster_id in [2, 3]:\n",
    "    ctx_id = cluster_id\n",
    "    med_id = ctx_id+2\n",
    "    cs_id = med_id+2\n",
    "\n",
    "    # Calculate the bounding box\n",
    "    convex_mask = convex_mask3d == cluster_id\n",
    "    if np.sum(convex_mask) == 0:\n",
    "        continue\n",
    "    bbox = getBBox(convex_mask)\n",
    "    bb_l, bb_h = bbox\n",
    "    recon_bbox = recon[bb_l[0]:bb_h[0], bb_l[1]:bb_h[1], bb_l[2]:bb_h[2], :].copy()\n",
    "    labels_bbox = labels3d[bb_l[0]:bb_h[0], bb_l[1]:bb_h[1], bb_l[2]:bb_h[2]].copy()\n",
    "    convex_mask_bbox = convex_mask[bb_l[0]:bb_h[0], bb_l[1]:bb_h[1], bb_l[2]:bb_h[2]].copy()\n",
    "    nx_bb, ny_bb, nz_bb = convex_mask_bbox.shape\n",
    "\n",
    "    if issubclass(recon_bbox.dtype.type, np.integer):\n",
    "        recon_bbox -= np.amin(recon_bbox)\n",
    "        # Use look up table\n",
    "        lut = np.arange(np.amax(recon_bbox)+1).astype(np.float)\n",
    "        lut = (lut/np.amax(lut)*255).astype(np.uint8)\n",
    "        recon_bbox = lut[recon_bbox]\n",
    "    else:\n",
    "        recon_bbox -= np.amin(recon_bbox)\n",
    "        recon_bbox /= np.amax(recon_bbox)\n",
    "        recon_bbox = (recon_bbox*255).astype(np.uint8)\n",
    "\n",
    "    labels_bbox = labels_bbox*convex_mask_bbox\n",
    "    labels_bbox[labels_bbox==ctx_id] = 1\n",
    "    labels_bbox[labels_bbox==med_id] = 2\n",
    "    labels_bbox[labels_bbox==cs_id] = 3\n",
    "    labels = labels_bbox.ravel()\n",
    "\n",
    "    sig = recon_bbox.reshape(-1, nt)\n",
    "    mean_sig = np.mean(sig, axis=0, keepdims=True)\n",
    "\n",
    "    sample_time = np.array([0, 30, 60, 90, 120, 150, 180]) # seconds after contrast arrives\n",
    "    t_10p = get_first_crossing_time(mean_sig, 0.10)[0]\n",
    "    t_10p = np.floor(t_10p).astype(np.int)\n",
    "    t_start = max(t_10p, 0)\n",
    "    sample_idx = t_start + np.ceil(sample_time/temp_res).astype(np.int)\n",
    "    cutoff_idx = np.amax(np.where(sample_idx <= nt-1)[0])\n",
    "    temp_cutoff = sample_time[cutoff_idx]\n",
    "    print(temp_cutoff, 'seconds')\n",
    "    sample_idx[sample_idx > nt-1] = nt-1\n",
    "    \n",
    "    \n",
    "    if train_short:\n",
    "            sample_time = np.array([0, 30, 60, 90]) # seconds after contrast arrives\n",
    "            t_10p = get_first_crossing_time(mean_sig, 0.10)[0]\n",
    "            t_10p = np.floor(t_10p).astype(np.int)\n",
    "            t_start = max(t_10p, 0)\n",
    "            sample_idx = t_start + np.ceil(sample_time/temp_res).astype(np.int)\n",
    "            sample_idx[sample_idx > nt-1] = nt-1\n",
    "            sig = sig[:,:sample_idx[-1]+1]\n",
    "\n",
    "\n",
    "    sig_sample = sig[:,sample_idx].astype(np.float).copy()\n",
    "    \n",
    "    sig_min = np.amin(sig, axis=1, keepdims=True)\n",
    "    sig_max = np.amax(sig, axis=1, keepdims=True)\n",
    "    sig_diff = sig_max - sig_min\n",
    "    sig_sample = np.hstack((sig_sample, sig_diff))\n",
    "\n",
    "\n",
    "#     for ff in range(sig_sample.shape[1]):\n",
    "#         sig_sample[:,ff] = rankdata(sig_sample[:,ff])/sig_sample.shape[0]\n",
    "\n",
    "    sig_sample -= np.mean(sig_sample, axis=0, keepdims=True)\n",
    "    sig_sample /= np.std(sig_sample, axis=0, keepdims=True)\n",
    "\n",
    "    t_ref = get_first_crossing_time(mean_sig, 0.10)[0]\n",
    "    t_50p = (get_first_crossing_time(sig, 0.50) - t_ref)*temp_res\n",
    "    t_90p = (get_first_crossing_time(sig, 0.90) - t_ref)*temp_res\n",
    "\n",
    "    t_feat = np.vstack((t_50p, t_90p)).T\n",
    "    \n",
    "#     t_dist = []\n",
    "#     for i in range(t_feat.shape[1]):\n",
    "#         t_select = t_feat[:,i].copy()\n",
    "#         t_select[convex_mask_bbox.ravel()==0] = np.amin(t_select)\n",
    "#         kmeans = KMeans(n_clusters=4)\n",
    "#         t_select_dist= kmeans.fit_transform(t_select.reshape(-1,1))\n",
    "#         cluster_centers = kmeans.cluster_centers_.copy()\n",
    "#         relabel = rankdata(cluster_centers, method='ordinal').astype(np.int)-1\n",
    "#         t_select_dist_reordered = np.zeros_like(t_select_dist)\n",
    "#         for j in range(t_select_dist.shape[1]):\n",
    "#             t_select_dist_reordered[:,relabel[j]] = t_select_dist[:,j]\n",
    "#         t_dist.append(t_select_dist_reordered)\n",
    "#     t_dist = np.hstack(t_dist)\n",
    "\n",
    "    dist = distance_transform_edt(convex_mask_bbox, sampling=spacing).reshape(-1,1)\n",
    "    \n",
    "    features = np.hstack((sig_sample, t_feat, dist))\n",
    "    \n",
    "    X_test = features.copy()\n",
    "    y_test = labels.copy()\n",
    "    \n",
    "    X_test -= X_mean\n",
    "    X_test /= X_std\n",
    "\n",
    "    pred_test = classifier.predict(X_test)\n",
    "    \n",
    "    pred_test = pred_test*convex_mask_bbox.ravel()\n",
    "\n",
    "    print(classification_report(y_test, pred_test))\n",
    "    \n",
    "    pred_labels3d = pred_test.reshape(nx_bb, ny_bb, nz_bb)\n",
    "    \n",
    "    prediction3d_bbox = prediction3d[bb_l[0]:bb_h[0], bb_l[1]:bb_h[1], bb_l[2]:bb_h[2]]\n",
    "    prediction3d_bbox[pred_labels3d > 0] = pred_labels3d[pred_labels3d > 0]"
   ]
  },
  {
   "cell_type": "code",
   "execution_count": 65,
   "metadata": {
    "collapsed": true
   },
   "outputs": [],
   "source": [
    "overlayViewer(recon, prediction3d, zz=nz//4, tt=nt//2)"
   ]
  },
  {
   "cell_type": "code",
   "execution_count": 64,
   "metadata": {
    "collapsed": true
   },
   "outputs": [],
   "source": [
    "overlayViewer(recon, labels3d, zz=nz//4, tt=nt//2)"
   ]
  },
  {
   "cell_type": "code",
   "execution_count": null,
   "metadata": {
    "collapsed": true
   },
   "outputs": [],
   "source": []
  }
 ],
 "metadata": {
  "anaconda-cloud": {},
  "kernelspec": {
   "display_name": "Python [default]",
   "language": "python",
   "name": "python3"
  },
  "language_info": {
   "codemirror_mode": {
    "name": "ipython",
    "version": 3
   },
   "file_extension": ".py",
   "mimetype": "text/x-python",
   "name": "python",
   "nbconvert_exporter": "python",
   "pygments_lexer": "ipython3",
   "version": "3.4.5"
  }
 },
 "nbformat": 4,
 "nbformat_minor": 0
}
