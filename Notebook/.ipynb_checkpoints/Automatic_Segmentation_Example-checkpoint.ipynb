{
 "cells": [
  {
   "cell_type": "markdown",
   "metadata": {},
   "source": [
    "## Setup"
   ]
  },
  {
   "cell_type": "code",
   "execution_count": null,
   "metadata": {
    "collapsed": true
   },
   "outputs": [],
   "source": [
    "# You need to compile the modified GrabCut algorithm before you can call the automatic segmentation functions below.\n",
    "# - Install OpenCV\n",
    "# - Compile modified GrabCut using /Notebook/CppSource/DisplayMat/Makefile\n",
    "\n",
    "# You also need to install the pydicom package to read/write dicoms. "
   ]
  },
  {
   "cell_type": "markdown",
   "metadata": {},
   "source": [
    "## Import Functions"
   ]
  },
  {
   "cell_type": "code",
   "execution_count": null,
   "metadata": {
    "collapsed": false
   },
   "outputs": [],
   "source": [
    "%load_ext autoreload\n",
    "%autoreload 2\n",
    "%matplotlib inline\n",
    "import numpy as np\n",
    "import matplotlib.pyplot as plt"
   ]
  },
  {
   "cell_type": "code",
   "execution_count": null,
   "metadata": {
    "collapsed": true
   },
   "outputs": [],
   "source": [
    "from Source.autoSegment import autoSegmentFromDicom\n",
    "from Source.ipythonWidgets import overlayViewer, reconViewer"
   ]
  },
  {
   "cell_type": "markdown",
   "metadata": {},
   "source": [
    "## Automatic Segmentation"
   ]
  },
  {
   "cell_type": "code",
   "execution_count": null,
   "metadata": {
    "collapsed": true
   },
   "outputs": [],
   "source": [
    "# You need to specify your own input path here.\n",
    "input_directory = '/Users/umityoruk/Desktop/COR_FS_MFAST_sts_fbbn_AP_X_50_8004/'"
   ]
  },
  {
   "cell_type": "code",
   "execution_count": null,
   "metadata": {
    "collapsed": false
   },
   "outputs": [],
   "source": [
    "# Run the automatic segmentation algorithm. If the bulk segmentation fails, try increasing the threshold_multiplier.\n",
    "# The function returns the 4D dataset and the 3D automatic segmentation masks.\n",
    "# The input Dicoms has to be uncompressed.\n",
    "recon, kidney_labels = autoSegmentFromDicom(input_dir=input_directory, threshold_multiplier=1)"
   ]
  },
  {
   "cell_type": "code",
   "execution_count": null,
   "metadata": {
    "collapsed": true
   },
   "outputs": [],
   "source": [
    "# You can view the overlay using the overlayViewer function.\n",
    "overlayViewer(recon, kidney_labels)"
   ]
  },
  {
   "cell_type": "markdown",
   "metadata": {},
   "source": [
    "## Automatic Segmentation (with Dicom output)"
   ]
  },
  {
   "cell_type": "code",
   "execution_count": null,
   "metadata": {
    "collapsed": true
   },
   "outputs": [],
   "source": [
    "# You can specify an output directory to save the segmentation masks as Dicoms. \n",
    "# These Dicoms can be imported to Osirix and converted to ROIs using \"mask2RenalROI\" plugin."
   ]
  },
  {
   "cell_type": "code",
   "execution_count": null,
   "metadata": {
    "collapsed": true
   },
   "outputs": [],
   "source": [
    "# You need to specify an output directory before running the function below to save the segmentation masks as Dicoms.\n",
    "output_directory = '/Users/umityoruk/Desktop/DicomOut3/'"
   ]
  },
  {
   "cell_type": "code",
   "execution_count": null,
   "metadata": {
    "collapsed": false
   },
   "outputs": [],
   "source": [
    "# Run the automatic segmentation algorithm. If the bulk segmentation fails, try increasing the threshold_multiplier.\n",
    "# The function returns the 4D dataset and the 3D automatic segmentation masks.\n",
    "# The input Dicoms has to be uncompressed.\n",
    "recon, kidney_labels = autoSegmentFromDicom(input_dir=input_directory, \n",
    "                                            output_dir=output_directory, \n",
    "                                            threshold_multiplier=1)"
   ]
  }
 ],
 "metadata": {
  "anaconda-cloud": {},
  "kernelspec": {
   "display_name": "Python [conda root]",
   "language": "python",
   "name": "conda-root-py"
  },
  "language_info": {
   "codemirror_mode": {
    "name": "ipython",
    "version": 3
   },
   "file_extension": ".py",
   "mimetype": "text/x-python",
   "name": "python",
   "nbconvert_exporter": "python",
   "pygments_lexer": "ipython3",
   "version": "3.4.5"
  }
 },
 "nbformat": 4,
 "nbformat_minor": 1
}
