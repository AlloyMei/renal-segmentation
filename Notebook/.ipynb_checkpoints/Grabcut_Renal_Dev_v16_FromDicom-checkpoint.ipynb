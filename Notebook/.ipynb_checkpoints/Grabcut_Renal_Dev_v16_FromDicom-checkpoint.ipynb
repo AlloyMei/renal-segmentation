{
 "cells": [
  {
   "cell_type": "code",
   "execution_count": 1,
   "metadata": {
    "collapsed": true
   },
   "outputs": [],
   "source": [
    "# Need to set grabcut gamma=5"
   ]
  },
  {
   "cell_type": "code",
   "execution_count": 2,
   "metadata": {
    "collapsed": false
   },
   "outputs": [],
   "source": [
    "%load_ext autoreload\n",
    "%autoreload 2\n",
    "%matplotlib inline\n",
    "import numpy as np\n",
    "import matplotlib.pyplot as plt"
   ]
  },
  {
   "cell_type": "code",
   "execution_count": 3,
   "metadata": {
    "collapsed": false
   },
   "outputs": [],
   "source": [
    "import os\n",
    "import h5py\n",
    "import time\n",
    "import pickle\n",
    "import warnings\n",
    "import subprocess\n",
    "\n",
    "from sklearn.decomposition import PCA\n",
    "from skimage.morphology import convex_hull_image\n",
    "from scipy.interpolate import interp1d\n",
    "from scipy.optimize import curve_fit\n",
    "from skimage.filters import threshold_otsu, rank\n",
    "from scipy.ndimage.filters import gaussian_filter, median_filter, maximum_filter, minimum_filter\n",
    "from scipy.ndimage import grey_closing\n",
    "from scipy.ndimage import label\n",
    "from sklearn.metrics import classification_report\n",
    "\n",
    "from Source.util import getPathsToVisit\n",
    "from Source.util import getBBox, convex_hull_image3d, fill_holes3d\n",
    "from Source.util import umtRead, umtWrite\n",
    "from Source.util import get_first_crossing_time\n",
    "from Source.ipythonWidgets import overlayViewer, reconViewer"
   ]
  },
  {
   "cell_type": "code",
   "execution_count": 4,
   "metadata": {
    "collapsed": true
   },
   "outputs": [],
   "source": [
    "# OpenCV GrabCut constants\n",
    "GC_BGD = 0\n",
    "GC_FGD = 1\n",
    "GC_PR_BGD = 2\n",
    "GC_PR_FGD = 3"
   ]
  },
  {
   "cell_type": "markdown",
   "metadata": {},
   "source": [
    "## Load dataset"
   ]
  },
  {
   "cell_type": "code",
   "execution_count": 5,
   "metadata": {
    "collapsed": true
   },
   "outputs": [],
   "source": [
    "tic_total = time.time()"
   ]
  },
  {
   "cell_type": "code",
   "execution_count": 160,
   "metadata": {
    "collapsed": false
   },
   "outputs": [
    {
     "name": "stdout",
     "output_type": "stream",
     "text": [
      "Number of subjects: 11\n",
      "/Users/umityoruk/Documents/PythonDev/SegmentationReview/Data2/09\n",
      "Elapsed: 25.37359595298767\n"
     ]
    }
   ],
   "source": [
    "pathsToVisit = getPathsToVisit('../Data2')\n",
    "print('Number of subjects:', len(pathsToVisit))\n",
    "subjectPath = pathsToVisit[8]\n",
    "print(subjectPath)\n",
    "tic = time.time()\n",
    "\n",
    "# # Load the dataset. (for Data)\n",
    "# reconPath = os.path.join(subjectPath, 'recon_36p_crop.mat')\n",
    "# with h5py.File(reconPath) as f:\n",
    "#     recon = np.array(f['recon']).T\n",
    "# temp_res = 3.0\n",
    "# spacing = np.array([1.7, 1.4, 2.4])\n",
    "# ss_f = [1, 1, 1, 1]\n",
    "# load_true_labels = True\n",
    "\n",
    "\n",
    "# # Load the dataset.\n",
    "# reconPath = os.path.join(subjectPath, 'recon4d_18p.hdf5')\n",
    "# with h5py.File(reconPath) as f:\n",
    "#     spacing = np.array(f['spacing'])\n",
    "#     temp_res = np.array(f['temp_res']).astype(np.float)/1000\n",
    "#     recon = np.array(f['recon'])\n",
    "# ss_f = [2, 2, 2, 1]  # Subsampling factor [x,y,z,t]\n",
    "# load_true_labels = False\n",
    "\n",
    "\n",
    "\n",
    "# Load the dataset. (for Data2)\n",
    "reconPath = os.path.join(subjectPath, 'recon4d.hdf5')\n",
    "with h5py.File(reconPath) as f:\n",
    "    spacing = np.array(f['spacing'])\n",
    "    temp_res = np.array(f['temp_res']).astype(np.float)/1000\n",
    "    recon = np.array(f['recon'])\n",
    "ss_f = [2, 2, 2, 1]  # Subsampling factor [x,y,z,t]\n",
    "load_true_labels = True\n",
    "\n",
    "\n",
    "\n",
    "# # Load the dataset. (for Data3)\n",
    "# reconPath = os.path.join(subjectPath, 'recon4d.hdf5')\n",
    "# with h5py.File(reconPath) as f:\n",
    "#     spacing = np.array(f['spacing'])\n",
    "#     temp_res = np.array(f['temp_res']).astype(np.float)/1000\n",
    "#     recon = np.array(f['recon'])\n",
    "# ss_f = [1, 1, 1, 1]\n",
    "# load_true_labels = True\n",
    "\n",
    "\n",
    "\n",
    "recon = recon[::ss_f[0],::ss_f[1],::ss_f[2],::ss_f[3]]\n",
    "spacing = np.array([ss_f[0],ss_f[1],ss_f[2]])*spacing\n",
    "nx, ny, nz, nt = recon.shape\n",
    "print('Elapsed:', time.time()-tic)"
   ]
  },
  {
   "cell_type": "code",
   "execution_count": 161,
   "metadata": {
    "collapsed": false
   },
   "outputs": [],
   "source": [
    "if issubclass(recon.dtype.type, np.integer):\n",
    "    recon -= np.amin(recon)\n",
    "    # Use look up table\n",
    "    lut = np.arange(np.amax(recon)+1).astype(np.float)\n",
    "    lut = (lut/np.amax(lut)*255).astype(np.uint8)\n",
    "    recon = lut[recon]\n",
    "else:\n",
    "    recon -= np.amin(recon)\n",
    "    recon /= np.amax(recon)\n",
    "    recon = (recon*255).astype(np.uint8)"
   ]
  },
  {
   "cell_type": "code",
   "execution_count": 162,
   "metadata": {
    "collapsed": false
   },
   "outputs": [
    {
     "data": {
      "text/plain": [
       "<matplotlib.image.AxesImage at 0x18e0da710>"
      ]
     },
     "execution_count": 162,
     "metadata": {},
     "output_type": "execute_result"
    },
    {
     "data": {
      "image/png": "[encoded data removed]",
      "text/plain": [
       "<matplotlib.figure.Figure at 0x19155b0f0>"
      ]
     },
     "metadata": {},
     "output_type": "display_data"
    }
   ],
   "source": [
    "xx = nx//3\n",
    "tt = 10\n",
    "im = recon[xx, :, :, tt]\n",
    "plt.figure(figsize=(8,6))\n",
    "plt.imshow(im.T, interpolation='none', cmap=plt.cm.gray)"
   ]
  },
  {
   "cell_type": "code",
   "execution_count": 171,
   "metadata": {
    "collapsed": false
   },
   "outputs": [
    {
     "data": {
      "text/plain": [
       "<matplotlib.image.AxesImage at 0x219a72828>"
      ]
     },
     "execution_count": 171,
     "metadata": {},
     "output_type": "execute_result"
    },
    {
     "data": {
      "image/png": "[encoded data removed]",
      "text/plain": [
       "<matplotlib.figure.Figure at 0x2196fa4e0>"
      ]
     },
     "metadata": {},
     "output_type": "display_data"
    }
   ],
   "source": [
    "zz = nz//3\n",
    "zz = 30\n",
    "tt = 30\n",
    "im = recon[:, :, zz, tt]\n",
    "plt.figure(figsize=(8,6))\n",
    "plt.imshow(im, interpolation='none', cmap=plt.cm.gray)"
   ]
  },
  {
   "cell_type": "markdown",
   "metadata": {
    "collapsed": true
   },
   "source": [
    "## Find medulla clusters"
   ]
  },
  {
   "cell_type": "code",
   "execution_count": 13,
   "metadata": {
    "collapsed": true
   },
   "outputs": [],
   "source": [
    "cortical_thickness = 11 # mm"
   ]
  },
  {
   "cell_type": "code",
   "execution_count": 14,
   "metadata": {
    "collapsed": false
   },
   "outputs": [
    {
     "name": "stdout",
     "output_type": "stream",
     "text": [
      "3 23 35\n"
     ]
    },
    {
     "data": {
      "text/plain": [
       "[<matplotlib.lines.Line2D at 0x113637438>]"
      ]
     },
     "execution_count": 14,
     "metadata": {},
     "output_type": "execute_result"
    },
    {
     "data": {
      "image/png": "[encoded data removed]",
      "text/plain": [
       "<matplotlib.figure.Figure at 0x112b4b9e8>"
      ]
     },
     "metadata": {},
     "output_type": "display_data"
    }
   ],
   "source": [
    "sig = recon.reshape(-1, nt)\n",
    "mean_sig = np.mean(sig, axis=0)\n",
    "\n",
    "mean_sig = gaussian_filter(mean_sig, 10/temp_res)\n",
    "\n",
    "t_5p = get_first_crossing_time(mean_sig, 0.10)[0]\n",
    "t_5p = np.floor(t_5p).astype(np.int)\n",
    "t_start = max(t_5p, 0)\n",
    "\n",
    "t_30 = min(t_start+np.ceil(30/temp_res).astype(np.int), nt-1)\n",
    "t_45 = min(t_start+np.ceil(45/temp_res).astype(np.int), nt-1)\n",
    "t_60 = min(t_start+np.ceil(60/temp_res).astype(np.int), nt-1)\n",
    "t_90 = min(t_start+np.ceil(90/temp_res).astype(np.int), nt-1)\n",
    "t_120 = min(t_start+np.ceil(120/temp_res).astype(np.int), nt-1)\n",
    "t_180 = min(t_start+np.ceil(180/temp_res).astype(np.int), nt-1)\n",
    "t_240 = min(t_start+np.ceil(240/temp_res).astype(np.int), nt-1)\n",
    "print(t_start, t_60, t_120)\n",
    "\n",
    "plt.figure()\n",
    "plt.plot(mean_sig, 'b-')\n",
    "plt.plot([t_start, t_60, t_120], mean_sig[[t_start, t_60, t_120]], 'ro')"
   ]
  },
  {
   "cell_type": "code",
   "execution_count": null,
   "metadata": {
    "collapsed": true
   },
   "outputs": [],
   "source": []
  },
  {
   "cell_type": "code",
   "execution_count": 15,
   "metadata": {
    "collapsed": true
   },
   "outputs": [],
   "source": [
    "# Penalize voxels with high initial intensity\n",
    "start_score = recon[:,:,:,t_start].astype(np.float).copy()\n",
    "start_score = gaussian_filter(start_score, 2/spacing)\n",
    "start_score -= np.amin(start_score)\n",
    "start_score /= np.amax(start_score)\n",
    "start_score = 1 - start_score"
   ]
  },
  {
   "cell_type": "code",
   "execution_count": 16,
   "metadata": {
    "collapsed": true
   },
   "outputs": [],
   "source": [
    "overlayViewer(recon, start_score, zz=nz//4, tt=nt//2)"
   ]
  },
  {
   "cell_type": "code",
   "execution_count": null,
   "metadata": {
    "collapsed": true
   },
   "outputs": [],
   "source": []
  },
  {
   "cell_type": "code",
   "execution_count": 40,
   "metadata": {
    "collapsed": true
   },
   "outputs": [],
   "source": [
    "# Penalize voxels where motion is dominant\n",
    "y = sig[:,t_60:t_120].astype(np.float).T\n",
    "x = np.arange(y.shape[0])\n",
    "Z = np.polyfit(x, y, 2)\n",
    "X = np.vstack((x**2, x**1, x**0))\n",
    "y_fit = np.dot(Z.T, X)\n",
    "y_res = y.T-y_fit\n",
    "y_res_std = np.std(y_res, axis=1)\n",
    "y_res_std3d = y_res_std.reshape(nx, ny, nz)"
   ]
  },
  {
   "cell_type": "code",
   "execution_count": 41,
   "metadata": {
    "collapsed": false
   },
   "outputs": [],
   "source": [
    "motion_score = y_res_std3d.copy()\n",
    "motion_score = gaussian_filter(motion_score, 2/spacing)\n",
    "motion_score -= np.amin(motion_score)\n",
    "motion_score /= np.amax(motion_score)\n",
    "motion_score = 1 - motion_score"
   ]
  },
  {
   "cell_type": "code",
   "execution_count": 42,
   "metadata": {
    "collapsed": true
   },
   "outputs": [],
   "source": [
    "overlayViewer(recon, motion_score, zz=nz//4, tt=nt//2)"
   ]
  },
  {
   "cell_type": "code",
   "execution_count": 43,
   "metadata": {
    "collapsed": false
   },
   "outputs": [],
   "source": [
    "# # An example of motion detection (Data k=3)\n",
    "# plt.figure()\n",
    "# plt.plot(recon[15,125,27,t_split:])\n",
    "# plt.plot(recon[55,130,27,t_split:])\n",
    "\n",
    "# y1 = recon[15,125,27,t_split:]\n",
    "# y2 = recon[55,130,27,t_split:]\n",
    "# y = np.vstack((y1, y2)).T\n",
    "# x = np.arange(y.shape[0])\n",
    "# z = np.polyfit(x,y,2)\n",
    "\n",
    "# X = np.vstack((x**2, x**1, x**0))\n",
    "\n",
    "# P = np.dot(z.T, X)\n",
    "\n",
    "# p1 = np.poly1d(z[:,0])\n",
    "# p2 = np.poly1d(z[:,1])\n",
    "# plt.plot(x, P[0,:])\n",
    "# plt.plot(x, P[1,:])\n",
    "\n",
    "# plt.figure()\n",
    "# plt.plot(y1-P[0,:])\n",
    "# plt.plot(y2-P[1,:])\n",
    "\n",
    "# # Look compare the std to identify the moving voxels"
   ]
  },
  {
   "cell_type": "code",
   "execution_count": null,
   "metadata": {
    "collapsed": true
   },
   "outputs": [],
   "source": []
  },
  {
   "cell_type": "code",
   "execution_count": null,
   "metadata": {
    "collapsed": true
   },
   "outputs": [],
   "source": []
  },
  {
   "cell_type": "code",
   "execution_count": null,
   "metadata": {
    "collapsed": true
   },
   "outputs": [],
   "source": []
  },
  {
   "cell_type": "code",
   "execution_count": 44,
   "metadata": {
    "collapsed": false
   },
   "outputs": [],
   "source": [
    "# Look at time to peak\n",
    "im_90p = get_first_crossing_time(recon[:,:,:,t_start:t_60], 0.90)\n",
    "im_90p[im_90p==0.0] = np.amax(im_90p)\n",
    "im_90p = gaussian_filter(im_90p, sigma=2/spacing)\n",
    "im_90p -= np.amin(im_90p)\n",
    "im_90p /= np.amax(im_90p)\n",
    "im_90p = 1 - im_90p"
   ]
  },
  {
   "cell_type": "code",
   "execution_count": 45,
   "metadata": {
    "collapsed": false
   },
   "outputs": [
    {
     "name": "stdout",
     "output_type": "stream",
     "text": [
      "[8 8 4]\n"
     ]
    }
   ],
   "source": [
    "nb_mm = cortical_thickness\n",
    "nb = np.ceil(nb_mm/spacing).astype(np.int)\n",
    "print(nb)\n",
    "\n",
    "im_90p_filt = im_90p.copy()\n",
    "im_90p_filt = maximum_filter(im_90p_filt, nb)\n",
    "im_90p_filt = minimum_filter(im_90p_filt, nb)\n",
    "med_temp_score = im_90p_filt"
   ]
  },
  {
   "cell_type": "code",
   "execution_count": 46,
   "metadata": {
    "collapsed": false
   },
   "outputs": [],
   "source": [
    "overlayViewer(recon, im_90p_filt, zz=nz//4, tt=nt//2)"
   ]
  },
  {
   "cell_type": "code",
   "execution_count": null,
   "metadata": {
    "collapsed": true
   },
   "outputs": [],
   "source": []
  },
  {
   "cell_type": "code",
   "execution_count": 47,
   "metadata": {
    "collapsed": true
   },
   "outputs": [],
   "source": [
    "recon_bl = gaussian_filter(recon.astype(np.float), np.hstack((0/spacing, 10/temp_res)))\n",
    "recon_start = recon_bl[:,:,:,t_start].astype(np.float)\n",
    "recon_30 = recon_bl[:,:,:,t_30].astype(np.float)\n",
    "recon_45 = recon_bl[:,:,:,t_45].astype(np.float)\n",
    "recon_60 = recon_bl[:,:,:,t_60].astype(np.float)\n",
    "recon_90 = recon_bl[:,:,:,t_90].astype(np.float)\n",
    "recon_120 = recon_bl[:,:,:,t_120].astype(np.float)\n",
    "recon_240 = recon_bl[:,:,:,t_240].astype(np.float)"
   ]
  },
  {
   "cell_type": "code",
   "execution_count": 48,
   "metadata": {
    "collapsed": false
   },
   "outputs": [],
   "source": [
    "med_marker3_1 = (recon_60-recon_start)\n",
    "med_marker3_1[med_marker3_1 < 0] = 0\n",
    "med_marker3_1 = gaussian_filter(med_marker3_1, 2/spacing)\n",
    "med_marker3_1 -= np.amin(med_marker3_1)\n",
    "med_marker3_1 /= np.amax(med_marker3_1)\n",
    "\n",
    "med_marker3_2 = (recon_120 - recon_60)\n",
    "mask = med_marker3_2 > 0\n",
    "med_marker3_2[med_marker3_2 < 0] = 0\n",
    "med_marker3_2 = gaussian_filter(med_marker3_2, 2/spacing)\n",
    "med_marker3_2 -= np.amin(med_marker3_2)\n",
    "med_marker3_2 /= np.amax(med_marker3_2)\n",
    "\n",
    "med_marker3 = np.ones((nx, ny, nz), dtype=np.float)\n",
    "med_marker3 = med_marker3 * med_marker3_1\n",
    "med_marker3 = med_marker3 * med_marker3_2\n",
    "med_marker3 = med_marker3 * motion_score\n",
    "med_marker3 = med_marker3 * start_score\n",
    "med_marker3 = med_marker3 * med_temp_score\n",
    "med_marker3 = med_marker3/np.amax(med_marker3)\n",
    "\n",
    "med_marker3[med_marker3 < 0] = 0\n",
    "med_marker_filt3 = med_marker3*mask"
   ]
  },
  {
   "cell_type": "code",
   "execution_count": 49,
   "metadata": {
    "collapsed": true
   },
   "outputs": [],
   "source": [
    "overlayViewer(recon, med_marker_filt3, zz=nz//3, tt=nt//2)"
   ]
  },
  {
   "cell_type": "code",
   "execution_count": null,
   "metadata": {
    "collapsed": true
   },
   "outputs": [],
   "source": []
  },
  {
   "cell_type": "code",
   "execution_count": 50,
   "metadata": {
    "collapsed": true
   },
   "outputs": [],
   "source": [
    "if (t_180 < nt-1):\n",
    "    # Look at time to peak\n",
    "    cs_im_90 = get_first_crossing_time(recon[:,:,:,t_start:t_180], 0.90)\n",
    "    cs_im_90 = gaussian_filter(cs_im_90, sigma=2/spacing)\n",
    "    cs_im_90 -= np.amin(cs_im_90)\n",
    "    cs_im_90 /= np.amax(cs_im_90)\n",
    "    cs_temp_score = cs_im_90\n",
    "    \n",
    "    overlayViewer(recon, cs_temp_score, zz=nz//4, tt=nt//2)"
   ]
  },
  {
   "cell_type": "code",
   "execution_count": 51,
   "metadata": {
    "collapsed": false
   },
   "outputs": [],
   "source": [
    "if (t_180 < nt-1):\n",
    "\n",
    "    med_marker4_2 = (recon_240 - recon_120)\n",
    "    mask = med_marker4_2 > 0\n",
    "    med_marker4_2[med_marker4_2 < 0] = 0\n",
    "    med_marker4_2 = gaussian_filter(med_marker4_2, 2/spacing)\n",
    "    med_marker4_2 -= np.amin(med_marker4_2)\n",
    "    med_marker4_2 /= np.amax(med_marker4_2)\n",
    "\n",
    "    med_marker4 = np.ones((nx, ny, nz), dtype=np.float)\n",
    "    med_marker4 = med_marker4 * med_marker4_2\n",
    "    med_marker4 = med_marker4 * motion_score\n",
    "    med_marker4 = med_marker4 * start_score\n",
    "    med_marker4 = med_marker4 * cs_temp_score\n",
    "    med_marker4 = med_marker4/np.amax(med_marker4)\n",
    "\n",
    "    med_marker4[med_marker4 < 0] = 0\n",
    "    med_marker_filt4 = med_marker4*mask"
   ]
  },
  {
   "cell_type": "code",
   "execution_count": 52,
   "metadata": {
    "collapsed": true
   },
   "outputs": [],
   "source": [
    "if (t_180 < nt-1):\n",
    "    med_marker5 = med_marker4/np.amax(med_marker4) + med_marker_filt3/np.amax(med_marker_filt3)\n",
    "    med_marker_filt5 = med_marker_filt4/np.amax(med_marker_filt4) + med_marker_filt3/np.amax(med_marker_filt3)\n",
    "else:\n",
    "    med_marker_filt5 = med_marker_filt3"
   ]
  },
  {
   "cell_type": "code",
   "execution_count": 53,
   "metadata": {
    "collapsed": false
   },
   "outputs": [],
   "source": [
    "overlayViewer(recon, med_marker_filt5, zz=nz//3)"
   ]
  },
  {
   "cell_type": "code",
   "execution_count": null,
   "metadata": {
    "collapsed": true
   },
   "outputs": [],
   "source": []
  },
  {
   "cell_type": "code",
   "execution_count": 54,
   "metadata": {
    "collapsed": true
   },
   "outputs": [],
   "source": [
    "med_marker_im3d = med_marker_filt5.copy()\n",
    "med_marker_im3d -= np.amin(med_marker_im3d)\n",
    "med_marker_im3d /= np.amax(med_marker_im3d)\n",
    "med_marker_im3d = (255*med_marker_im3d).astype(np.uint8)"
   ]
  },
  {
   "cell_type": "code",
   "execution_count": 55,
   "metadata": {
    "collapsed": true
   },
   "outputs": [],
   "source": [
    "med_cutoff_otsu = threshold_otsu(med_marker_im3d[med_marker_im3d>0].ravel())"
   ]
  },
  {
   "cell_type": "code",
   "execution_count": 56,
   "metadata": {
    "collapsed": true
   },
   "outputs": [],
   "source": [
    "overlayViewer(recon, med_marker_im3d.astype(np.float), th=med_cutoff_otsu, zz=nz//3, tt=nt//2)"
   ]
  },
  {
   "cell_type": "code",
   "execution_count": 57,
   "metadata": {
    "collapsed": false
   },
   "outputs": [],
   "source": [
    "# marker = med_marker_im3d.astype(np.float).copy()\n",
    "# marker[57,122,34] = np.amax(marker)\n",
    "# overlayViewer(recon, marker, th=med_cutoff_otsu, zz=34, tt=nt//2)"
   ]
  },
  {
   "cell_type": "code",
   "execution_count": 58,
   "metadata": {
    "collapsed": false
   },
   "outputs": [],
   "source": [
    "# plt.figure()\n",
    "# plt.plot(recon[76,145,34,:])\n",
    "# plt.plot(recon[100,155,24,:])\n",
    "# plt.plot(recon[57,122,35,:])"
   ]
  },
  {
   "cell_type": "code",
   "execution_count": null,
   "metadata": {
    "collapsed": true
   },
   "outputs": [],
   "source": []
  },
  {
   "cell_type": "code",
   "execution_count": null,
   "metadata": {
    "collapsed": true
   },
   "outputs": [],
   "source": []
  },
  {
   "cell_type": "code",
   "execution_count": 59,
   "metadata": {
    "collapsed": false
   },
   "outputs": [
    {
     "name": "stdout",
     "output_type": "stream",
     "text": [
      "[8 8 4]\n"
     ]
    }
   ],
   "source": [
    "nb_mm = cortical_thickness\n",
    "nb = np.ceil(nb_mm/spacing).astype(np.int)\n",
    "print(nb)\n",
    "\n",
    "med_valid = med_marker_im3d.astype(np.float) > med_cutoff_otsu\n",
    "\n",
    "med_valid_max = maximum_filter(med_valid, nb)\n",
    "med_valid_label, num_labels = label(med_valid_max)\n",
    "med_valid_label[med_valid==0] = 0"
   ]
  },
  {
   "cell_type": "code",
   "execution_count": 60,
   "metadata": {
    "collapsed": true
   },
   "outputs": [],
   "source": [
    "overlayViewer(recon, med_valid_max, zz=nz//3, tt=nt//2)"
   ]
  },
  {
   "cell_type": "code",
   "execution_count": null,
   "metadata": {
    "collapsed": true
   },
   "outputs": [],
   "source": []
  },
  {
   "cell_type": "code",
   "execution_count": null,
   "metadata": {
    "collapsed": true
   },
   "outputs": [],
   "source": []
  },
  {
   "cell_type": "code",
   "execution_count": 61,
   "metadata": {
    "collapsed": true
   },
   "outputs": [],
   "source": [
    "if load_true_labels:\n",
    "    # Load true cortex labels\n",
    "    labels_path = os.path.join(subjectPath, 'labels.hdf5')\n",
    "    with h5py.File(labels_path) as f:\n",
    "        labels_kidney3d = np.array(f['labels'])\n",
    "    \n",
    "    # Apply subsampling\n",
    "    labels_kidney3d = labels_kidney3d[::ss_f[0],::ss_f[1],::ss_f[2]]\n",
    "\n",
    "    # Ignore medulla and collecting system that fall outside of the convex hull.\n",
    "    labels_kidney3d[labels_kidney3d > 3] = 0\n",
    "    \n",
    "    # Generate the convex hull for the kidneys\n",
    "    for cluster_id in [2, 3]:\n",
    "        cluster = labels_kidney3d == cluster_id\n",
    "        for zz in range(cluster.shape[2]):\n",
    "            bm = cluster[:,:,zz]\n",
    "            if np.sum(bm) == 0:\n",
    "                continue\n",
    "            bm = convex_hull_image(bm)\n",
    "            cluster[:,:,zz] = bm > 0\n",
    "        labels_kidney3d[cluster > 0] = cluster_id"
   ]
  },
  {
   "cell_type": "code",
   "execution_count": null,
   "metadata": {
    "collapsed": true
   },
   "outputs": [],
   "source": []
  },
  {
   "cell_type": "code",
   "execution_count": 62,
   "metadata": {
    "collapsed": false
   },
   "outputs": [
    {
     "name": "stdout",
     "output_type": "stream",
     "text": [
      "[3653421   11575    3946       4       5     226      25     176       9\n",
      "       4     362       2     261]\n",
      "[ 1  2 10 12  5  7  6  8  4  9  3 11  0]\n"
     ]
    }
   ],
   "source": [
    "cluster_size = np.bincount(med_valid_label.ravel())\n",
    "print(cluster_size)\n",
    "cluster_size[0] = 0\n",
    "sorted_clusters = np.argsort(cluster_size)[::-1]\n",
    "print(sorted_clusters)\n",
    "largest_n = 4\n",
    "med_valid_largest = np.zeros_like(med_valid_label)\n",
    "for i in range(min(largest_n, sorted_clusters.shape[0])):\n",
    "    cluster_id = sorted_clusters[i]\n",
    "    if cluster_size[cluster_id] > 0:\n",
    "        med_valid_largest[med_valid_label == cluster_id] = i+1"
   ]
  },
  {
   "cell_type": "code",
   "execution_count": 63,
   "metadata": {
    "collapsed": true
   },
   "outputs": [],
   "source": [
    "overlayViewer(recon, med_valid_largest, zz=nz//3, tt=nt//2)"
   ]
  },
  {
   "cell_type": "code",
   "execution_count": null,
   "metadata": {
    "collapsed": true
   },
   "outputs": [],
   "source": []
  },
  {
   "cell_type": "code",
   "execution_count": null,
   "metadata": {
    "collapsed": false
   },
   "outputs": [],
   "source": []
  },
  {
   "cell_type": "code",
   "execution_count": 64,
   "metadata": {
    "collapsed": false
   },
   "outputs": [
    {
     "name": "stdout",
     "output_type": "stream",
     "text": [
      "[18 18  9]\n"
     ]
    }
   ],
   "source": [
    "#nb_mm = 25 # Based on cortical thickness (12.5 mm extension on all sides for max cort. thickness of 11mm)\n",
    "nb_mm = 2*(cortical_thickness*1.15)\n",
    "nb = np.ceil(nb_mm/spacing).astype(np.int)\n",
    "print(nb)\n",
    "\n",
    "# Process each region separately\n",
    "bbox_list = []\n",
    "potential_mask_bbox_list = []\n",
    "for cluster_id in np.unique(med_valid_largest[med_valid_largest > 0]):\n",
    "    # Expand the mask by maximum cortical thickness to cover the whole kidney\n",
    "    potential_mask = med_valid_largest == cluster_id\n",
    "    potential_mask = maximum_filter(potential_mask, nb)\n",
    "    \n",
    "    # Generate the 3d convex hull\n",
    "    potential_mask = convex_hull_image3d(potential_mask)\n",
    "    \n",
    "    # Calculate the bounding box\n",
    "    bbox = getBBox(potential_mask)\n",
    "    \n",
    "    # Expand bbox to get more background\n",
    "    scale = 1.5\n",
    "    xyz_min, xyz_end = bbox\n",
    "    xyz_len = xyz_end-xyz_min\n",
    "    xyz_len_shift = np.round((scale-1)*xyz_len).astype(np.int)\n",
    "    new_xyz_min = xyz_min - np.floor(xyz_len_shift/2).astype(np.int)\n",
    "    new_xyz_min[new_xyz_min < 0] = 0\n",
    "    new_xyz_len = xyz_len + xyz_len_shift\n",
    "    new_xyz_max = new_xyz_min + new_xyz_len\n",
    "    new_xyz_over = new_xyz_max - [nx,ny,nz]\n",
    "    new_xyz_over[new_xyz_over < 0] = 0\n",
    "    new_xyz_len = xyz_len + xyz_len_shift - new_xyz_over\n",
    "    bbox = (new_xyz_min, new_xyz_min + new_xyz_len)\n",
    "    bbox_list.append(bbox)\n",
    "    \n",
    "    # Store potential_mask \n",
    "    bb_l, bb_h = bbox\n",
    "    potential_mask_bbox = potential_mask[bb_l[0]:bb_h[0], bb_l[1]:bb_h[1], bb_l[2]:bb_h[2]]\n",
    "    potential_mask_bbox_list.append(potential_mask_bbox)"
   ]
  },
  {
   "cell_type": "code",
   "execution_count": 65,
   "metadata": {
    "collapsed": false
   },
   "outputs": [],
   "source": [
    "# Create potential_mask3d for visualization\n",
    "potential_mask3d = np.zeros((nx, ny, nz), dtype=np.int)\n",
    "for i in range(len(bbox_list)):\n",
    "    bbox = bbox_list[i]\n",
    "    bb_l, bb_h = bbox\n",
    "    potential_mask_bbox = potential_mask_bbox_list[i].astype(np.int)\n",
    "    potential_mask3d_slice = potential_mask3d[bb_l[0]:bb_h[0], bb_l[1]:bb_h[1], bb_l[2]:bb_h[2]]\n",
    "    potential_mask3d_slice[potential_mask_bbox > 0] = i+1"
   ]
  },
  {
   "cell_type": "code",
   "execution_count": 66,
   "metadata": {
    "collapsed": true
   },
   "outputs": [],
   "source": [
    "overlayViewer(recon, potential_mask3d, zz=nz//3, tt=nt//2)"
   ]
  },
  {
   "cell_type": "code",
   "execution_count": 67,
   "metadata": {
    "collapsed": true
   },
   "outputs": [],
   "source": [
    "recon_min = np.amin(recon, axis=3, keepdims=True)\n",
    "recon_diff = gaussian_filter(recon - recon_min, np.hstack((0/spacing, 0/temp_res)))\n",
    "\n",
    "im3d_pca_bbox_list = []\n",
    "im3d_rgb_bbox_list = []\n",
    "for i in range(len(bbox_list)):\n",
    "    bbox = bbox_list[i]\n",
    "    bb_l, bb_h = bbox\n",
    "    recon_diff_bbox = recon_diff[bb_l[0]:bb_h[0], bb_l[1]:bb_h[1], bb_l[2]:bb_h[2], :]\n",
    "    nx_bb, ny_bb, nz_bb, nt_bb = recon_diff_bbox.shape\n",
    "    pca = PCA(n_components=3)\n",
    "    im3d_pca_bbox = pca.fit_transform(recon_diff_bbox.reshape(-1, recon_diff_bbox.shape[-1]).astype(np.float))\n",
    "    im3d_pca_bbox = im3d_pca_bbox.reshape(nx_bb, ny_bb, nz_bb, -1)\n",
    "    im3d_pca_bbox_list.append(im3d_pca_bbox)\n",
    "    im3d_rgb_bbox = im3d_pca_bbox.copy()\n",
    "    for ch in range(im3d_rgb_bbox.shape[3]):\n",
    "        im3d_ch = im3d_rgb_bbox[:,:,:,ch]\n",
    "        im3d_ch -= np.amin(im3d_ch)\n",
    "        im3d_ch = im3d_ch/np.amax(im3d_ch)*255\n",
    "        im3d_rgb_bbox[:,:,:,ch] = im3d_ch\n",
    "    im3d_rgb_bbox = im3d_rgb_bbox.astype(np.uint8)\n",
    "    im3d_rgb_bbox_list.append(im3d_rgb_bbox)"
   ]
  },
  {
   "cell_type": "code",
   "execution_count": 68,
   "metadata": {
    "collapsed": false
   },
   "outputs": [
    {
     "name": "stdout",
     "output_type": "stream",
     "text": [
      "/Users/umityoruk/Documents/PythonDev/NewSegmentation/Notebook/Buffer/input.umt\n",
      "/Users/umityoruk/Documents/PythonDev/NewSegmentation/Notebook/Buffer/mask.umt\n",
      "/Users/umityoruk/Documents/PythonDev/NewSegmentation/Notebook/Buffer/output.umt\n",
      "Returned 0\n",
      "Elapsed time: 9.60443115234375\n",
      "/Users/umityoruk/Documents/PythonDev/NewSegmentation/Notebook/Buffer/input.umt\n",
      "/Users/umityoruk/Documents/PythonDev/NewSegmentation/Notebook/Buffer/mask.umt\n",
      "/Users/umityoruk/Documents/PythonDev/NewSegmentation/Notebook/Buffer/output.umt\n",
      "Returned 0\n",
      "Elapsed time: 10.546889066696167\n",
      "/Users/umityoruk/Documents/PythonDev/NewSegmentation/Notebook/Buffer/input.umt\n",
      "/Users/umityoruk/Documents/PythonDev/NewSegmentation/Notebook/Buffer/mask.umt\n",
      "/Users/umityoruk/Documents/PythonDev/NewSegmentation/Notebook/Buffer/output.umt\n",
      "Returned 0\n",
      "Elapsed time: 0.73996901512146\n",
      "/Users/umityoruk/Documents/PythonDev/NewSegmentation/Notebook/Buffer/input.umt\n",
      "/Users/umityoruk/Documents/PythonDev/NewSegmentation/Notebook/Buffer/mask.umt\n",
      "/Users/umityoruk/Documents/PythonDev/NewSegmentation/Notebook/Buffer/output.umt\n",
      "Returned 0\n",
      "Elapsed time: 1.271009922027588\n"
     ]
    }
   ],
   "source": [
    "output3d = np.zeros(potential_mask3d.shape, dtype=np.int)\n",
    "output3d_bbox_list = []\n",
    "for i in range(len(bbox_list)):\n",
    "    bbox = bbox_list[i]\n",
    "    bb_l, bb_h = bbox\n",
    "    \n",
    "    im3d_rgb_bbox = im3d_rgb_bbox_list[i]\n",
    "    potential_mask3d_bbox = potential_mask_bbox_list[i]\n",
    "    \n",
    "    img_gc = np.transpose(im3d_rgb_bbox, (2, 0, 1, 3))\n",
    "\n",
    "    mask_gc = np.zeros(im3d_rgb_bbox.shape[:3], np.uint8)\n",
    "    mask_gc[potential_mask3d_bbox > 0] = GC_PR_FGD\n",
    "    mask_gc = np.transpose(mask_gc, (2, 0, 1))\n",
    "\n",
    "    input_filename = os.path.join(os.getcwd(), \"Buffer\", \"input.umt\")\n",
    "    mask_filename = os.path.join(os.getcwd(), \"Buffer\", \"mask.umt\")\n",
    "    output_filename = os.path.join(os.getcwd(), \"Buffer\", \"output.umt\")\n",
    "    print(input_filename)\n",
    "    print(mask_filename)\n",
    "    print(output_filename)\n",
    "    umtWrite(input_filename, img_gc)\n",
    "    umtWrite(mask_filename, mask_gc)\n",
    "    \n",
    "    program_path = os.path.join(os.getcwd(), \"CppSource\", \"DisplayMat\", \"run_grabcut3d\")\n",
    "    tic = time.time()\n",
    "    ret_val = subprocess.call([program_path, input_filename, mask_filename, output_filename])\n",
    "    print('Returned', ret_val)\n",
    "    print('Elapsed time:', time.time()-tic)\n",
    "    \n",
    "    output3d_bbox = umtRead(output_filename)\n",
    "    output3d_bbox = np.transpose(output3d_bbox, (1, 2, 0)) == GC_PR_FGD\n",
    "    output3d_bbox_list.append(output3d_bbox)\n",
    "    \n",
    "    output3d_slice = output3d[bb_l[0]:bb_h[0], bb_l[1]:bb_h[1], bb_l[2]:bb_h[2]]\n",
    "    output3d_slice[output3d_bbox > 0] = output3d_bbox[output3d_bbox > 0]"
   ]
  },
  {
   "cell_type": "code",
   "execution_count": 69,
   "metadata": {
    "collapsed": false
   },
   "outputs": [
    {
     "data": {
      "text/plain": [
       "<matplotlib.image.AxesImage at 0x104396400>"
      ]
     },
     "execution_count": 69,
     "metadata": {},
     "output_type": "execute_result"
    },
    {
     "data": {
      "image/png": "[encoded data removed]",
      "text/plain": [
       "<matplotlib.figure.Figure at 0x143f68ac8>"
      ]
     },
     "metadata": {},
     "output_type": "display_data"
    }
   ],
   "source": [
    "plt.figure()\n",
    "plt.imshow(output3d[:,:,nz//3])"
   ]
  },
  {
   "cell_type": "code",
   "execution_count": 70,
   "metadata": {
    "collapsed": false
   },
   "outputs": [
    {
     "name": "stdout",
     "output_type": "stream",
     "text": [
      "[28589 45695     1   412]\n",
      "[28589 45695]\n"
     ]
    }
   ],
   "source": [
    "kidney_labels, n_labels = label(output3d)\n",
    "cluster_size = np.bincount(kidney_labels.ravel())\n",
    "print(cluster_size[1:])\n",
    "\n",
    "# Eliminate anything below 25% of the largest region\n",
    "cluster_size[0] = 0\n",
    "cluster_size_cutoff = np.amax(cluster_size)*0.25\n",
    "cluster_size[cluster_size < cluster_size_cutoff] = 0\n",
    "cluster_id = 0\n",
    "for i in range(n_labels+1):\n",
    "    if cluster_size[i] > 0:\n",
    "        cluster_id += 1\n",
    "        cluster_size[i] = cluster_id\n",
    "kidney_labels = cluster_size[kidney_labels]\n",
    "\n",
    "cluster_size = np.bincount(kidney_labels.ravel())\n",
    "print(cluster_size[1:])"
   ]
  },
  {
   "cell_type": "code",
   "execution_count": 71,
   "metadata": {
    "collapsed": false
   },
   "outputs": [],
   "source": [
    "overlayViewer(recon, kidney_labels, zz=nz//3, tt=nt//2)\n",
    "# overlayViewer(recon, im3d_rgb[:,:,:,0]*(kidney_labels>0))"
   ]
  },
  {
   "cell_type": "code",
   "execution_count": 72,
   "metadata": {
    "collapsed": false
   },
   "outputs": [],
   "source": [
    "# crop_x = [50, 150]\n",
    "# crop_y = [50, 200]\n",
    "\n",
    "# zz = 19\n",
    "# tt = 49\n",
    "# overlay_im = kidney_labels[:,:,zz].copy()\n",
    "# o_min = np.amin(overlay_im)\n",
    "# o_max = np.amax(overlay_im)\n",
    "\n",
    "# overlay_im = overlay_im[crop_x[0]:crop_x[1], crop_y[0]:crop_y[1]]\n",
    "\n",
    "# overlay_mask = np.ma.masked_where(overlay_im <= 0, overlay_im)\n",
    "# im = recon[:,:,zz,tt]\n",
    "\n",
    "# im = im[crop_x[0]:crop_x[1], crop_y[0]:crop_y[1]]\n",
    "\n",
    "\n",
    "# plt.figure(figsize=(8,6))\n",
    "# plt.imshow(im, interpolation='none', cmap=plt.cm.gray)\n",
    "# plt.imshow(overlay_mask, interpolation='none', cmap=plt.cm.jet, vmin=o_min, vmax=o_max, alpha=0.0)\n",
    "# plt.gca().xaxis.set_visible(False)\n",
    "# plt.gca().yaxis.set_visible(False)\n",
    "# save_format = ['svg', 'pdf']\n",
    "# for ext in save_format:\n",
    "#     filename = os.path.join('/Users/umityoruk/Desktop/', 'fail0' + '.' + ext)\n",
    "#     plt.savefig(filename, bbox_inches='tight')"
   ]
  },
  {
   "cell_type": "code",
   "execution_count": 73,
   "metadata": {
    "collapsed": false
   },
   "outputs": [
    {
     "name": "stdout",
     "output_type": "stream",
     "text": [
      "             precision    recall  f1-score   support\n",
      "\n",
      "      False       1.00      1.00      1.00   3578615\n",
      "       True       0.97      0.86      0.91     91401\n",
      "\n",
      "avg / total       1.00      1.00      1.00   3670016\n",
      "\n"
     ]
    }
   ],
   "source": [
    "if load_true_labels:\n",
    "    # Generate the convex hull for the kidney_labels\n",
    "    kidney_labels_hull = kidney_labels.copy()\n",
    "    for cluster_id in range(1, np.amax(kidney_labels_hull)+1):\n",
    "        cluster = kidney_labels_hull == cluster_id\n",
    "        for zz in range(cluster.shape[2]):\n",
    "            bm = cluster[:,:,zz]\n",
    "            if np.sum(bm) == 0:\n",
    "                continue\n",
    "            bm = convex_hull_image(bm)\n",
    "            cluster[:,:,zz] = bm > 0\n",
    "        kidney_labels_hull[cluster > 0] = cluster_id\n",
    "    print(classification_report(labels_kidney3d.ravel()>1, kidney_labels_hull.ravel()>0))"
   ]
  },
  {
   "cell_type": "code",
   "execution_count": 74,
   "metadata": {
    "collapsed": false
   },
   "outputs": [],
   "source": [
    "if load_true_labels:\n",
    "    overlayViewer(labels_kidney3d > 1, kidney_labels_hull, oa=0.8)"
   ]
  },
  {
   "cell_type": "code",
   "execution_count": 230,
   "metadata": {
    "collapsed": false
   },
   "outputs": [
    {
     "name": "stdout",
     "output_type": "stream",
     "text": [
      "First Pass Elapsed: 1876.1094739437103\n"
     ]
    }
   ],
   "source": [
    "print('First Pass Elapsed:', time.time()-tic_total)"
   ]
  },
  {
   "cell_type": "markdown",
   "metadata": {},
   "source": [
    "## 3D Clean Up"
   ]
  },
  {
   "cell_type": "code",
   "execution_count": 231,
   "metadata": {
    "collapsed": true
   },
   "outputs": [],
   "source": [
    "from scipy.ndimage.morphology import binary_fill_holes\n",
    "\n",
    "def fill_holes3d(im3d):\n",
    "    nx, ny, nz = im3d.shape\n",
    "    out3d = im3d.copy()\n",
    "    while True:\n",
    "        sum_prev = np.sum(out3d)\n",
    "        for xx in range(nx):\n",
    "            bm = out3d[xx,:,:]\n",
    "            if not np.any(bm):\n",
    "                continue\n",
    "            out3d[xx,:,:] = binary_fill_holes(bm)\n",
    "        for yy in range(ny):\n",
    "            bm = out3d[:,yy,:]\n",
    "            if not np.any(bm):\n",
    "                continue\n",
    "            out3d[:,yy,:] = binary_fill_holes(bm)\n",
    "        for zz in range(nz):\n",
    "            bm = out3d[:,:,zz]\n",
    "            if not np.any(bm):\n",
    "                continue\n",
    "            out3d[:,:,zz] = binary_fill_holes(bm)\n",
    "        sum_current = np.sum(out3d)\n",
    "        progress = sum_current-sum_prev\n",
    "        print(progress)\n",
    "        if progress == 0:\n",
    "            break\n",
    "    return out3d"
   ]
  },
  {
   "cell_type": "code",
   "execution_count": 232,
   "metadata": {
    "collapsed": false
   },
   "outputs": [
    {
     "name": "stdout",
     "output_type": "stream",
     "text": [
      "1259\n",
      "31\n",
      "0\n"
     ]
    }
   ],
   "source": [
    "# Fill holes in x, y, z slices for robustness\n",
    "# This will fill up the convex volume before erosion.\n",
    "output_filled = fill_holes3d(output3d)"
   ]
  },
  {
   "cell_type": "code",
   "execution_count": 233,
   "metadata": {
    "collapsed": true
   },
   "outputs": [],
   "source": [
    "overlayViewer(recon, output_filled)"
   ]
  },
  {
   "cell_type": "code",
   "execution_count": 234,
   "metadata": {
    "collapsed": false
   },
   "outputs": [
    {
     "name": "stdout",
     "output_type": "stream",
     "text": [
      "[3 4 3]\n"
     ]
    }
   ],
   "source": [
    "nb_mm = 3.2*2 # (2 x minimum cortical thickness)\n",
    "nb = np.floor(nb_mm/spacing).astype(np.int) # (floor to be conservative)\n",
    "nb[nb<3] = 3 # At least 1 voxel in each direction\n",
    "print(nb)\n",
    "\n",
    "# Erode the output of the first pass\n",
    "# output3d_eroded = minimum_filter(output3d, nb)\n",
    "output3d_eroded = minimum_filter(output_filled, nb)\n",
    "output3d_opened = maximum_filter(output3d_eroded, nb+2)"
   ]
  },
  {
   "cell_type": "code",
   "execution_count": 235,
   "metadata": {
    "collapsed": true
   },
   "outputs": [],
   "source": [
    "output3d_cleaned = output3d.copy()\n",
    "output3d_cleaned[output3d_opened > 0] = 0"
   ]
  },
  {
   "cell_type": "code",
   "execution_count": 236,
   "metadata": {
    "collapsed": true
   },
   "outputs": [],
   "source": [
    "overlayViewer(recon, output3d_cleaned, zz=26, tt=nt//2)"
   ]
  },
  {
   "cell_type": "code",
   "execution_count": null,
   "metadata": {
    "collapsed": true
   },
   "outputs": [],
   "source": []
  },
  {
   "cell_type": "code",
   "execution_count": 237,
   "metadata": {
    "collapsed": true
   },
   "outputs": [],
   "source": [
    "# Alternative to second pass\n",
    "output3d_final2 = output3d.copy()\n",
    "output3d_final2[output3d_opened == 0] = 0"
   ]
  },
  {
   "cell_type": "code",
   "execution_count": 238,
   "metadata": {
    "collapsed": false
   },
   "outputs": [
    {
     "name": "stdout",
     "output_type": "stream",
     "text": [
      "[17607 12460]\n",
      "[17607 12460]\n"
     ]
    }
   ],
   "source": [
    "kidney_labels, n_labels = label(output3d_final2)\n",
    "cluster_size = np.bincount(kidney_labels.ravel())\n",
    "print(cluster_size[1:])\n",
    "\n",
    "# Eliminate anything below 25% of the largest region\n",
    "cluster_size[0] = 0\n",
    "cluster_size_cutoff = np.amax(cluster_size)*0.25\n",
    "cluster_size[cluster_size < cluster_size_cutoff] = 0\n",
    "cluster_id = 0\n",
    "for i in range(n_labels+1):\n",
    "    if cluster_size[i] > 0:\n",
    "        cluster_id += 1\n",
    "        cluster_size[i] = cluster_id\n",
    "kidney_labels = cluster_size[kidney_labels]\n",
    "\n",
    "cluster_size = np.bincount(kidney_labels.ravel())\n",
    "print(cluster_size[1:])"
   ]
  },
  {
   "cell_type": "code",
   "execution_count": 239,
   "metadata": {
    "collapsed": false
   },
   "outputs": [
    {
     "data": {
      "image/png": "[encoded data removed]",
      "text/plain": [
       "<matplotlib.figure.Figure at 0x12a92c748>"
      ]
     },
     "metadata": {},
     "output_type": "display_data"
    }
   ],
   "source": [
    "# Get rid of noisy regions\n",
    "sig = recon.reshape(-1, nt)\n",
    "kidney_labels_fixed = np.zeros_like(kidney_labels)\n",
    "valid_count = 0\n",
    "valid_sig = []\n",
    "invalid_sig = []\n",
    "for cluster_id in np.unique(kidney_labels[kidney_labels > 0]):\n",
    "    cluster_mask = kidney_labels == cluster_id\n",
    "    sig_mask = np.mean(sig[cluster_mask.ravel(), :], axis=0)\n",
    "    t_50p = get_first_crossing_time(sig_mask.reshape(1, -1), 0.50)\n",
    "    if t_50p < t_start or t_50p > t_30:\n",
    "        print('Noise_detected!')\n",
    "        invalid_sig.append(sig_mask)\n",
    "        continue\n",
    "    valid_sig.append(sig_mask)\n",
    "    valid_count += 1\n",
    "    kidney_labels_fixed[cluster_mask > 0] = valid_count\n",
    "    \n",
    "\n",
    "plt.figure()\n",
    "if len(valid_sig) > 0:\n",
    "    valid_sig = np.vstack(valid_sig)\n",
    "    plt.plot(valid_sig.T, 'b-')\n",
    "if len(invalid_sig) > 0:\n",
    "    invalid_sig = np.vstack(invalid_sig)\n",
    "    plt.plot(invalid_sig.T, 'r-')"
   ]
  },
  {
   "cell_type": "code",
   "execution_count": 240,
   "metadata": {
    "collapsed": true
   },
   "outputs": [],
   "source": [
    "kidney_labels = kidney_labels_fixed"
   ]
  },
  {
   "cell_type": "code",
   "execution_count": 241,
   "metadata": {
    "collapsed": false
   },
   "outputs": [
    {
     "name": "stdout",
     "output_type": "stream",
     "text": [
      "             precision    recall  f1-score   support\n",
      "\n",
      "      False       1.00      1.00      1.00   3422093\n",
      "       True       0.97      0.98      0.97     33907\n",
      "\n",
      "avg / total       1.00      1.00      1.00   3456000\n",
      "\n"
     ]
    }
   ],
   "source": [
    "# Generate the convex hull for the kidney_labels\n",
    "kidney_labels_hull = kidney_labels.copy()\n",
    "for cluster_id in range(1, np.amax(kidney_labels_hull)+1):\n",
    "    cluster = kidney_labels_hull == cluster_id\n",
    "    for zz in range(cluster.shape[2]):\n",
    "        bm = cluster[:,:,zz]\n",
    "        if np.sum(bm) == 0:\n",
    "            continue\n",
    "        bm = convex_hull_image(bm)\n",
    "        cluster[:,:,zz] = bm > 0\n",
    "    kidney_labels_hull[cluster > 0] = cluster_id\n",
    "        \n",
    "if load_true_labels:\n",
    "    print(classification_report(labels_kidney3d.ravel()>1, kidney_labels_hull.ravel()>0))"
   ]
  },
  {
   "cell_type": "code",
   "execution_count": 242,
   "metadata": {
    "collapsed": true
   },
   "outputs": [],
   "source": [
    "overlayViewer(recon, kidney_labels, zz=nz//3, tt=nt//2)"
   ]
  },
  {
   "cell_type": "code",
   "execution_count": 243,
   "metadata": {
    "collapsed": true
   },
   "outputs": [],
   "source": [
    "# outputPath = os.path.join(subjectPath, 'gc_labels.hdf5')\n",
    "# with h5py.File(outputPath, 'w') as f:\n",
    "#     dset = f.create_dataset('gc_labels', data=kidney_labels, compression='gzip')"
   ]
  },
  {
   "cell_type": "code",
   "execution_count": 244,
   "metadata": {
    "collapsed": false
   },
   "outputs": [
    {
     "name": "stdout",
     "output_type": "stream",
     "text": [
      "Renal Segmentation Elapsed: 1885.209506034851\n"
     ]
    }
   ],
   "source": [
    "print('Renal Segmentation Elapsed:', time.time()-tic_total)"
   ]
  }
 ],
 "metadata": {
  "anaconda-cloud": {},
  "kernelspec": {
   "display_name": "Python [default]",
   "language": "python",
   "name": "python3"
  },
  "language_info": {
   "codemirror_mode": {
    "name": "ipython",
    "version": 3
   },
   "file_extension": ".py",
   "mimetype": "text/x-python",
   "name": "python",
   "nbconvert_exporter": "python",
   "pygments_lexer": "ipython3",
   "version": "3.4.5"
  },
  "widgets": {
   "state": {
    "923643b5a7d54545b67c698a13daf0a2": {
     "views": [
      {
       "cell_index": 15
      }
     ]
    }
   },
   "version": "1.2.0"
  }
 },
 "nbformat": 4,
 "nbformat_minor": 0
}
