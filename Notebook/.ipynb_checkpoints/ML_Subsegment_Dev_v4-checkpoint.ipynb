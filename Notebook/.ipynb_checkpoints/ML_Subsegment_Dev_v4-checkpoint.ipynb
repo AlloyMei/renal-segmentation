{
 "cells": [
  {
   "cell_type": "code",
   "execution_count": 1,
   "metadata": {
    "collapsed": true
   },
   "outputs": [],
   "source": [
    "# Use ML_Train to train and save models"
   ]
  },
  {
   "cell_type": "code",
   "execution_count": 2,
   "metadata": {
    "collapsed": false
   },
   "outputs": [],
   "source": [
    "%load_ext autoreload\n",
    "%autoreload 2\n",
    "%matplotlib inline\n",
    "import numpy as np\n",
    "import matplotlib.pyplot as plt"
   ]
  },
  {
   "cell_type": "code",
   "execution_count": 3,
   "metadata": {
    "collapsed": false
   },
   "outputs": [],
   "source": [
    "import os\n",
    "import h5py\n",
    "import time\n",
    "import pickle\n",
    "import warnings\n",
    "import subprocess\n",
    "\n",
    "# from sklearn.decomposition import PCA\n",
    "from skimage.morphology import convex_hull_image\n",
    "# from scipy.interpolate import interp1d\n",
    "# from scipy.optimize import curve_fit\n",
    "# from scipy.ndimage.filters import gaussian_filter, median_filter, maximum_filter, minimum_filter\n",
    "# from scipy.stats import rankdata\n",
    "# from scipy.ndimage.morphology import distance_transform_edt\n",
    "# from sklearn.cluster import KMeans\n",
    "\n",
    "from Source.util import getPathsToVisit\n",
    "# from Source.util import get_first_crossing_time, getBBox\n",
    "from Source.ipythonWidgets import overlayViewer, reconViewer\n",
    "from Source.featureExtractor import extract_features, extract_features_and_labels, make_predictions"
   ]
  },
  {
   "cell_type": "code",
   "execution_count": 4,
   "metadata": {
    "collapsed": false
   },
   "outputs": [],
   "source": [
    "from sklearn.metrics import classification_report\n",
    "from sklearn.ensemble import RandomForestClassifier\n",
    "from sklearn.model_selection import train_test_split"
   ]
  },
  {
   "cell_type": "code",
   "execution_count": 5,
   "metadata": {
    "collapsed": false
   },
   "outputs": [
    {
     "name": "stdout",
     "output_type": "stream",
     "text": [
      "Number of subjects: 11\n",
      "/Users/umityoruk/Documents/PythonDev/FinalSegmentation/Data2/01\n"
     ]
    }
   ],
   "source": [
    "# Load a full dataset and test the classifier\n",
    "\n",
    "# pathsToVisit = getPathsToVisit('../ML/Train')\n",
    "pathsToVisit = getPathsToVisit('../Data2')\n",
    "print('Number of subjects:', len(pathsToVisit))\n",
    "\n",
    "subjectPath = pathsToVisit[0]\n",
    "print(subjectPath)\n",
    "\n",
    "\n",
    "# # Load the dataset.\n",
    "# reconPath = os.path.join(subjectPath, 'recon_36p_crop.mat')\n",
    "# with h5py.File(reconPath) as f:\n",
    "#     recon = np.array(f['recon']).T\n",
    "# temp_res = 3.0\n",
    "# spacing = np.array([1.7, 1.4, 2.4])\n",
    "# ss_f = [1, 1, 1, 1]\n",
    "# train_short = True\n",
    "# load_true_labels = True\n",
    "\n",
    "# Load the dataset.\n",
    "reconPath = os.path.join(subjectPath, 'recon4d.hdf5')\n",
    "with h5py.File(reconPath) as f:\n",
    "    spacing = np.array(f['spacing'])\n",
    "    temp_res = np.array(f['temp_res']).astype(np.float)/1000\n",
    "    recon = np.array(f['recon'])\n",
    "ss_f = [2, 2, 2, 1]\n",
    "train_short = False\n",
    "load_true_labels = True\n",
    "\n",
    "\n",
    "recon = recon[::ss_f[0],::ss_f[1],::ss_f[2],::ss_f[3]]\n",
    "spacing = np.array([ss_f[0],ss_f[1],ss_f[2]])*spacing\n",
    "nx, ny, nz, nt = recon.shape\n",
    "\n",
    "# Load the grabcut labels\n",
    "gcLabelsPath = os.path.join(subjectPath, 'gc_labels.hdf5')\n",
    "with h5py.File(gcLabelsPath) as f:\n",
    "    gc_labels3d = np.array(f['gc_labels'])\n",
    "    \n",
    "# Generate the convex hull for the kidneys\n",
    "gc_convex_mask3d = gc_labels3d.copy()\n",
    "for cluster_id in np.unique(gc_labels3d):\n",
    "    if cluster_id == 0:\n",
    "        continue\n",
    "    cluster = gc_convex_mask3d == cluster_id\n",
    "    for zz in range(cluster.shape[2]):\n",
    "        bm = cluster[:,:,zz]\n",
    "        if np.sum(bm) == 0:\n",
    "            continue\n",
    "        bm = convex_hull_image(bm)\n",
    "        cluster[:,:,zz] = bm > 0\n",
    "    gc_convex_mask3d[cluster > 0] = cluster_id\n",
    "    \n",
    "if load_true_labels:\n",
    "    # Load the true labels.\n",
    "    labelsPath = os.path.join(subjectPath, 'labels.hdf5')\n",
    "    with h5py.File(labelsPath) as f:\n",
    "        true_labels3d = np.array(f['labels'])\n",
    "    true_labels3d = true_labels3d[::ss_f[0],::ss_f[1],::ss_f[2]]"
   ]
  },
  {
   "cell_type": "code",
   "execution_count": 6,
   "metadata": {
    "collapsed": true
   },
   "outputs": [],
   "source": [
    "labels3d = gc_labels3d\n",
    "convex_mask3d = gc_convex_mask3d"
   ]
  },
  {
   "cell_type": "code",
   "execution_count": 11,
   "metadata": {
    "collapsed": false
   },
   "outputs": [
    {
     "ename": "FileNotFoundError",
     "evalue": "[Errno 2] No such file or directory: '/Users/umityoruk/Documents/PythonDev/FinalSegmentation/Notebook/../Model/subsegment_model_90.pkl'",
     "output_type": "error",
     "traceback": [
      "\u001b[0;31m---------------------------------------------------------------------------\u001b[0m",
      "\u001b[0;31mFileNotFoundError\u001b[0m                         Traceback (most recent call last)",
      "\u001b[0;32m<ipython-input-11-d7b2010de864>\u001b[0m in \u001b[0;36m<module>\u001b[0;34m()\u001b[0m\n\u001b[1;32m      4\u001b[0m     \u001b[0mmodel_filename\u001b[0m \u001b[0;34m=\u001b[0m \u001b[0mos\u001b[0m\u001b[0;34m.\u001b[0m\u001b[0mpath\u001b[0m\u001b[0;34m.\u001b[0m\u001b[0mjoin\u001b[0m\u001b[0;34m(\u001b[0m\u001b[0mos\u001b[0m\u001b[0;34m.\u001b[0m\u001b[0mgetcwd\u001b[0m\u001b[0;34m(\u001b[0m\u001b[0;34m)\u001b[0m\u001b[0;34m,\u001b[0m \u001b[0;34m'../Model'\u001b[0m\u001b[0;34m,\u001b[0m \u001b[0;34m'subsegment_model_180.pkl'\u001b[0m\u001b[0;34m)\u001b[0m\u001b[0;34m\u001b[0m\u001b[0m\n\u001b[1;32m      5\u001b[0m \u001b[0;34m\u001b[0m\u001b[0m\n\u001b[0;32m----> 6\u001b[0;31m \u001b[0;32mwith\u001b[0m \u001b[0mopen\u001b[0m\u001b[0;34m(\u001b[0m\u001b[0mmodel_filename\u001b[0m\u001b[0;34m,\u001b[0m \u001b[0;34m'rb'\u001b[0m\u001b[0;34m)\u001b[0m \u001b[0;32mas\u001b[0m \u001b[0mf\u001b[0m\u001b[0;34m:\u001b[0m\u001b[0;34m\u001b[0m\u001b[0m\n\u001b[0m\u001b[1;32m      7\u001b[0m     \u001b[0mmodel\u001b[0m \u001b[0;34m=\u001b[0m \u001b[0mpickle\u001b[0m\u001b[0;34m.\u001b[0m\u001b[0mload\u001b[0m\u001b[0;34m(\u001b[0m\u001b[0mf\u001b[0m\u001b[0;34m)\u001b[0m\u001b[0;34m\u001b[0m\u001b[0m\n\u001b[1;32m      8\u001b[0m \u001b[0;34m\u001b[0m\u001b[0m\n",
      "\u001b[0;31mFileNotFoundError\u001b[0m: [Errno 2] No such file or directory: '/Users/umityoruk/Documents/PythonDev/FinalSegmentation/Notebook/../Model/subsegment_model_90.pkl'"
     ]
    }
   ],
   "source": [
    "if train_short:\n",
    "    model_filename = os.path.join(os.getcwd(), '../Models', 'subsegment_model_90.pkl')\n",
    "else:\n",
    "    model_filename = os.path.join(os.getcwd(), '../Models', 'subsegment_model_180.pkl')\n",
    "    \n",
    "with open(model_filename, 'rb') as f:\n",
    "    model = pickle.load(f)\n",
    "\n",
    "classifier = model['classifier']\n",
    "X_mean = model['mean']\n",
    "X_std = model['std']"
   ]
  },
  {
   "cell_type": "code",
   "execution_count": 8,
   "metadata": {
    "collapsed": false
   },
   "outputs": [
    {
     "data": {
      "text/plain": [
       "{'classifier': RandomForestClassifier(bootstrap=True, class_weight=None, criterion='gini',\n",
       "             max_depth=None, max_features='auto', max_leaf_nodes=None,\n",
       "             min_impurity_split=1e-07, min_samples_leaf=1,\n",
       "             min_samples_split=2, min_weight_fraction_leaf=0.0,\n",
       "             n_estimators=100, n_jobs=1, oob_score=False, random_state=None,\n",
       "             verbose=0, warm_start=False),\n",
       " 'mean': array([[ -1.18583635e-02,   2.85547461e-03,  -3.96282764e-05,\n",
       "          -2.48503487e-03,   2.99967905e+00]]),\n",
       " 'std': array([[ 0.99873599,  0.99666075,  0.99358505,  0.98681498,  4.89445245]])}"
      ]
     },
     "execution_count": 8,
     "metadata": {},
     "output_type": "execute_result"
    }
   ],
   "source": [
    "model"
   ]
  },
  {
   "cell_type": "code",
   "execution_count": null,
   "metadata": {
    "collapsed": true
   },
   "outputs": [],
   "source": []
  },
  {
   "cell_type": "code",
   "execution_count": null,
   "metadata": {
    "collapsed": true
   },
   "outputs": [],
   "source": []
  },
  {
   "cell_type": "code",
   "execution_count": 9,
   "metadata": {
    "collapsed": false
   },
   "outputs": [
    {
     "name": "stdout",
     "output_type": "stream",
     "text": [
      "Elapsed time: 1.1072380542755127\n"
     ]
    }
   ],
   "source": [
    "tic = time.time()\n",
    "prediction3d = np.zeros((nx, ny, nz), dtype=np.int)\n",
    "for cluster_id in np.unique(labels3d):\n",
    "    if cluster_id == 0:\n",
    "        continue\n",
    "\n",
    "    # Calculate the bounding box\n",
    "    convex_mask = convex_mask3d == cluster_id\n",
    "    if np.sum(convex_mask) == 0:\n",
    "        continue\n",
    "    bbox = getBBox(convex_mask)\n",
    "    bb_l, bb_h = bbox\n",
    "    recon_bbox = recon[bb_l[0]:bb_h[0], bb_l[1]:bb_h[1], bb_l[2]:bb_h[2], :].copy()\n",
    "    convex_mask_bbox = convex_mask[bb_l[0]:bb_h[0], bb_l[1]:bb_h[1], bb_l[2]:bb_h[2]].copy()\n",
    "    nx_bb, ny_bb, nz_bb = convex_mask_bbox.shape\n",
    "\n",
    "    if issubclass(recon_bbox.dtype.type, np.integer):\n",
    "        recon_bbox -= np.amin(recon_bbox)\n",
    "        # Use look up table\n",
    "        lut = np.arange(np.amax(recon_bbox)+1).astype(np.float)\n",
    "        lut = (lut/np.amax(lut)*255).astype(np.uint8)\n",
    "        recon_bbox = lut[recon_bbox]\n",
    "    else:\n",
    "        recon_bbox -= np.amin(recon_bbox)\n",
    "        recon_bbox /= np.amax(recon_bbox)\n",
    "        recon_bbox = (recon_bbox*255).astype(np.uint8)\n",
    "\n",
    "    sig = recon_bbox.reshape(-1, nt)\n",
    "    mean_sig = np.mean(sig, axis=0, keepdims=True)\n",
    "\n",
    "    sample_time = np.array([0, 30, 60, 90, 120, 150]) # seconds after contrast arrives\n",
    "    t_10p = get_first_crossing_time(mean_sig, 0.10)[0]\n",
    "    t_10p = np.floor(t_10p).astype(np.int)\n",
    "    t_start = max(t_10p, 0)\n",
    "    sample_idx = t_start + np.ceil(sample_time/temp_res).astype(np.int)\n",
    "    sample_idx[sample_idx > nt-1] = nt-1\n",
    "    \n",
    "    \n",
    "    if train_short:\n",
    "            sample_time = np.array([0, 30, 60, 90]) # seconds after contrast arrives\n",
    "            t_10p = get_first_crossing_time(mean_sig, 0.10)[0]\n",
    "            t_10p = np.floor(t_10p).astype(np.int)\n",
    "            t_start = max(t_10p, 0)\n",
    "            sample_idx = t_start + np.ceil(sample_time/temp_res).astype(np.int)\n",
    "            sample_idx[sample_idx > nt-1] = nt-1\n",
    "            sig = sig[:,:sample_idx[-1]+1]\n",
    "\n",
    "\n",
    "    sig_sample = sig[:,sample_idx].astype(np.float).copy()\n",
    "    \n",
    "#     sig_min = np.amin(sig, axis=1, keepdims=True)\n",
    "#     sig_max = np.amax(sig, axis=1, keepdims=True)\n",
    "#     sig_diff = sig_max - sig_min\n",
    "#     sig_sample = np.hstack((sig_sample, sig_diff))\n",
    "\n",
    "    sig_sample -= np.mean(sig_sample, axis=0, keepdims=True)\n",
    "    sig_sample /= np.std(sig_sample, axis=0, keepdims=True)\n",
    "\n",
    "#     t_ref = get_first_crossing_time(mean_sig, 0.10)[0]\n",
    "#     t_50p = (get_first_crossing_time(sig, 0.50) - t_ref)*temp_res\n",
    "#     t_90p = (get_first_crossing_time(sig, 0.90) - t_ref)*temp_res\n",
    "\n",
    "#     t_feat = np.vstack((t_50p, t_90p)).T\n",
    "\n",
    "    dist = distance_transform_edt(convex_mask_bbox, sampling=spacing).reshape(-1,1)\n",
    "    \n",
    "#     features = np.hstack((sig_sample, t_feat, dist))\n",
    "    features = np.hstack((sig_sample, dist))\n",
    "    \n",
    "    X_test = features.copy()\n",
    "    \n",
    "    X_test -= X_mean\n",
    "    X_test /= X_std\n",
    "\n",
    "    pred_test = classifier.predict(X_test)\n",
    "    \n",
    "    pred_test = pred_test*convex_mask_bbox.ravel()\n",
    "    \n",
    "    pred_labels3d = pred_test.reshape(nx_bb, ny_bb, nz_bb)\n",
    "    \n",
    "    prediction3d_bbox = prediction3d[bb_l[0]:bb_h[0], bb_l[1]:bb_h[1], bb_l[2]:bb_h[2]]\n",
    "    prediction3d_bbox[pred_labels3d > 0] = pred_labels3d[pred_labels3d > 0]\n",
    "print('Elapsed time:', time.time()-tic)"
   ]
  },
  {
   "cell_type": "code",
   "execution_count": 9,
   "metadata": {
    "collapsed": true
   },
   "outputs": [],
   "source": [
    "time_stamps = np.arange(nt)*temp_res\n",
    "prediction3d = make_predictions(recon, spacing, time_stamps, labels3d)"
   ]
  },
  {
   "cell_type": "code",
   "execution_count": 10,
   "metadata": {
    "collapsed": true
   },
   "outputs": [],
   "source": [
    "overlayViewer(recon, prediction3d, zz=nz//3, tt=nt//2)"
   ]
  },
  {
   "cell_type": "code",
   "execution_count": 11,
   "metadata": {
    "collapsed": false
   },
   "outputs": [
    {
     "data": {
      "text/plain": [
       "<matplotlib.image.AxesImage at 0x1179d1198>"
      ]
     },
     "execution_count": 11,
     "metadata": {},
     "output_type": "execute_result"
    },
    {
     "data": {
      "image/png": "[encoded data removed]",
      "text/plain": [
       "<matplotlib.figure.Figure at 0x11811a8d0>"
      ]
     },
     "metadata": {},
     "output_type": "display_data"
    }
   ],
   "source": [
    "# Relabel kidney regions\n",
    "# 0 - background\n",
    "# 1 - aorta\n",
    "# 2 - left cortex\n",
    "# 3 - right cortex\n",
    "# 4 - left medulla\n",
    "# 5 - right medulla\n",
    "# 6 - left collecting system\n",
    "# 7 - right collecting system\n",
    "\n",
    "y_centers = []\n",
    "for i in range(1, np.amax(gc_labels3d)+1):\n",
    "    y_center = np.mean(np.where(gc_labels3d==i)[1])\n",
    "    y_centers.append((i, y_center))\n",
    "y_centers = sorted(y_centers, key=lambda x: x[1])\n",
    "label_offsets = []\n",
    "if len(y_centers) == 1:\n",
    "    y_center = y_centers[0]\n",
    "    if y_center[1] > ny//2:\n",
    "        offset = 0\n",
    "    else:\n",
    "        offset = 1\n",
    "    label_offsets.append((y_center[0], offset))\n",
    "elif len(y_centers) == 2:\n",
    "    label_offsets.append((y_centers[0][0], 1))\n",
    "    label_offsets.append((y_centers[1][0], 0))\n",
    "else:\n",
    "    print('Number of kindeys out of handling capability!')\n",
    "\n",
    "ml_labels3d = np.zeros_like(gc_labels3d)\n",
    "for label_offset in label_offsets:\n",
    "    gc_select, offset = label_offset\n",
    "    gc_mask = gc_labels3d == gc_select\n",
    "    for subseg_select in range(1,4):\n",
    "        subseg_mask = prediction3d == subseg_select\n",
    "        ml_labels3d[gc_mask * subseg_mask] = subseg_select*2 + offset\n",
    "        \n",
    "zz = 18\n",
    "plt.figure()\n",
    "plt.imshow(ml_labels3d[:,:,zz])"
   ]
  },
  {
   "cell_type": "code",
   "execution_count": 16,
   "metadata": {
    "collapsed": true
   },
   "outputs": [],
   "source": [
    "overlayViewer(recon, ml_labels3d, zz=nz//3, tt=nt//2)"
   ]
  },
  {
   "cell_type": "code",
   "execution_count": null,
   "metadata": {
    "collapsed": true
   },
   "outputs": [],
   "source": [
    "# outputPath = os.path.join(subjectPath, 'ml_labels.hdf5')\n",
    "# with h5py.File(outputPath, 'w') as f:\n",
    "#     dset = f.create_dataset('ml_labels', data=ml_labels3d, compression='gzip')"
   ]
  },
  {
   "cell_type": "code",
   "execution_count": null,
   "metadata": {
    "collapsed": true
   },
   "outputs": [],
   "source": []
  },
  {
   "cell_type": "code",
   "execution_count": null,
   "metadata": {
    "collapsed": true
   },
   "outputs": [],
   "source": []
  },
  {
   "cell_type": "code",
   "execution_count": 5,
   "metadata": {
    "collapsed": false
   },
   "outputs": [],
   "source": [
    "from Source.autoSegment import autoSegmentFromDicom"
   ]
  },
  {
   "cell_type": "code",
   "execution_count": 6,
   "metadata": {
    "collapsed": false
   },
   "outputs": [
    {
     "name": "stdout",
     "output_type": "stream",
     "text": [
      "2664 files found\n",
      "\t0/2664\n",
      "\t266/2664\n",
      "\t532/2664\n",
      "\t798/2664\n",
      "\t1064/2664\n",
      "\t1330/2664\n",
      "\t1596/2664\n",
      "\t1862/2664\n",
      "\t2128/2664\n",
      "\t2394/2664\n",
      "\t2660/2664\n",
      "\tDone\n",
      "Triggers(ms): [0, 9848, 19696, 29544, 39392, 49240, 59088, 68937, 78785, 88633, 98481, 108329, 118177, 128026, 137874, 147722, 157570, 167418]\n",
      "Data Shape = (512, 512, 148, 18)\n",
      "Spacing (mm) = [0.625, 0.625, 1.0]\n",
      "Temporal Res (ms) = 9848\n",
      "FA (deg) = 15.0\n",
      "TR (ms) = 3.272\n",
      "TE (ms) = 1.336\n",
      "Sorting dicom data:\n",
      "Cluster_id = 1\n",
      "Elapsed time: 7.410392999649048\n",
      "Cluster_id = 2\n",
      "Elapsed time: 0.5203280448913574\n",
      "Cluster_id = 3\n",
      "Elapsed time: 0.29910993576049805\n",
      "Cell_Time = 11.119880199432373\n",
      "Segmentation completed.\n"
     ]
    }
   ],
   "source": [
    "recon, kidney_labels = autoSegmentFromDicom('/Users/umityoruk/Desktop/phase18/')"
   ]
  },
  {
   "cell_type": "code",
   "execution_count": 7,
   "metadata": {
    "collapsed": true
   },
   "outputs": [],
   "source": [
    "overlayViewer(recon, kidney_labels, zz=40, tt=5)"
   ]
  },
  {
   "cell_type": "code",
   "execution_count": null,
   "metadata": {
    "collapsed": true
   },
   "outputs": [],
   "source": []
  },
  {
   "cell_type": "code",
   "execution_count": null,
   "metadata": {
    "collapsed": true
   },
   "outputs": [],
   "source": []
  },
  {
   "cell_type": "code",
   "execution_count": null,
   "metadata": {
    "collapsed": true
   },
   "outputs": [],
   "source": []
  },
  {
   "cell_type": "code",
   "execution_count": null,
   "metadata": {
    "collapsed": true
   },
   "outputs": [],
   "source": []
  },
  {
   "cell_type": "code",
   "execution_count": 39,
   "metadata": {
    "collapsed": true
   },
   "outputs": [],
   "source": [
    "from Source.util import umtWrite"
   ]
  },
  {
   "cell_type": "code",
   "execution_count": 54,
   "metadata": {
    "collapsed": true
   },
   "outputs": [],
   "source": [
    "a = np.arange(125).reshape(5,5,5).astype(np.uint8)"
   ]
  },
  {
   "cell_type": "code",
   "execution_count": 55,
   "metadata": {
    "collapsed": true
   },
   "outputs": [],
   "source": [
    "a = a%8"
   ]
  },
  {
   "cell_type": "code",
   "execution_count": 63,
   "metadata": {
    "collapsed": false
   },
   "outputs": [
    {
     "data": {
      "text/plain": [
       "array([[0, 5, 2, 7, 4],\n",
       "       [1, 6, 3, 0, 5],\n",
       "       [2, 7, 4, 1, 6],\n",
       "       [3, 0, 5, 2, 7],\n",
       "       [4, 1, 6, 3, 0]], dtype=uint8)"
      ]
     },
     "execution_count": 63,
     "metadata": {},
     "output_type": "execute_result"
    }
   ],
   "source": [
    "a[:,:,0]"
   ]
  },
  {
   "cell_type": "code",
   "execution_count": 45,
   "metadata": {
    "collapsed": false
   },
   "outputs": [],
   "source": [
    "umtWrite('/Users/umityoruk/Desktop/test.umt', a)"
   ]
  },
  {
   "cell_type": "code",
   "execution_count": 57,
   "metadata": {
    "collapsed": false
   },
   "outputs": [
    {
     "data": {
      "text/plain": [
       "b'01234567012345670123456701234567012345670123456701234567012345670123456701234567012345670123456701234567012345670123456701234'"
      ]
     },
     "execution_count": 57,
     "metadata": {},
     "output_type": "execute_result"
    }
   ],
   "source": [
    "(a + ord('0')).tostring()"
   ]
  },
  {
   "cell_type": "code",
   "execution_count": 64,
   "metadata": {
    "collapsed": false
   },
   "outputs": [
    {
     "data": {
      "text/plain": [
       "array([[0, 5, 2, 7, 4],\n",
       "       [1, 6, 3, 0, 5],\n",
       "       [2, 7, 4, 1, 6],\n",
       "       [3, 0, 5, 2, 7],\n",
       "       [4, 1, 6, 3, 0]], dtype=uint8)"
      ]
     },
     "execution_count": 64,
     "metadata": {},
     "output_type": "execute_result"
    }
   ],
   "source": [
    "a[...,0]"
   ]
  },
  {
   "cell_type": "code",
   "execution_count": 65,
   "metadata": {
    "collapsed": true
   },
   "outputs": [],
   "source": [
    "from Source.util import roi_export"
   ]
  },
  {
   "cell_type": "code",
   "execution_count": 67,
   "metadata": {
    "collapsed": false
   },
   "outputs": [],
   "source": [
    "roi_export('/Users/umityoruk/Desktop/test.sroi', a)"
   ]
  },
  {
   "cell_type": "code",
   "execution_count": null,
   "metadata": {
    "collapsed": true
   },
   "outputs": [],
   "source": []
  }
 ],
 "metadata": {
  "anaconda-cloud": {},
  "kernelspec": {
   "display_name": "Python [default]",
   "language": "python",
   "name": "python3"
  },
  "language_info": {
   "codemirror_mode": {
    "name": "ipython",
    "version": 3
   },
   "file_extension": ".py",
   "mimetype": "text/x-python",
   "name": "python",
   "nbconvert_exporter": "python",
   "pygments_lexer": "ipython3",
   "version": "3.4.5"
  },
  "widgets": {
   "state": {
    "dab02804fc8e46fb863f6f2d0c4ce220": {
     "views": [
      {
       "cell_index": 20
      }
     ]
    }
   },
   "version": "1.2.0"
  }
 },
 "nbformat": 4,
 "nbformat_minor": 0
}
