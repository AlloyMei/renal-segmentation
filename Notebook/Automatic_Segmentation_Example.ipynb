{
 "cells": [
  {
   "cell_type": "markdown",
   "metadata": {},
   "source": [
    "## Setup"
   ]
  },
  {
   "cell_type": "code",
   "execution_count": null,
   "metadata": {},
   "outputs": [],
   "source": [
    "# If you are using the docker image it should work out of the box. No additional setup is needed.\n",
    "\n",
    "# If you are doing a local installation:\n",
    "## You need to compile the modified GrabCut algorithm before you can call the automatic segmentation functions below.\n",
    "## - Install OpenCV\n",
    "## - Compile modified GrabCut using /Notebook/CppSource/DisplayMat/Makefile\n",
    "## You also need to install the pydicom package to read/write dicoms. "
   ]
  },
  {
   "cell_type": "markdown",
   "metadata": {},
   "source": [
    "## Import Functions"
   ]
  },
  {
   "cell_type": "code",
   "execution_count": null,
   "metadata": {},
   "outputs": [],
   "source": [
    "%load_ext autoreload\n",
    "%autoreload 2\n",
    "%matplotlib inline\n",
    "import numpy as np\n",
    "import matplotlib.pyplot as plt"
   ]
  },
  {
   "cell_type": "code",
   "execution_count": null,
   "metadata": {},
   "outputs": [],
   "source": [
    "from Source.autoSegment import autoSegmentFromDicom\n",
    "from Source.ipythonWidgets import overlayViewer, reconViewer"
   ]
  },
  {
   "cell_type": "markdown",
   "metadata": {},
   "source": [
    "## Automatic Segmentation"
   ]
  },
  {
   "cell_type": "code",
   "execution_count": null,
   "metadata": {},
   "outputs": [],
   "source": [
    "# You need to specify your own input path here.\n",
    "input_directory = '/data/DicomIn/'"
   ]
  },
  {
   "cell_type": "code",
   "execution_count": null,
   "metadata": {
    "scrolled": false
   },
   "outputs": [],
   "source": [
    "# Run the automatic segmentation algorithm. If the bulk segmentation fails, try increasing the threshold_multiplier.\n",
    "# The function returns the 4D dataset and the 3D automatic segmentation masks.\n",
    "# The input Dicoms has to be uncompressed.\n",
    "\n",
    "# kidney_labels: np.array containing the segmentation masks \n",
    "#               0 = BG, \n",
    "#               1 = Aorta (reserved)\n",
    "#               2 = L Cortex\n",
    "#               3 = R Cortex\n",
    "#               4 = L Medulla\n",
    "#               5 = R Medulla\n",
    "#               6 = L Collecting System\n",
    "#               7 = R Collecting System\n",
    "\n",
    "recon, kidney_labels = autoSegmentFromDicom(input_dir=input_directory, threshold_multiplier=1)"
   ]
  },
  {
   "cell_type": "code",
   "execution_count": null,
   "metadata": {},
   "outputs": [],
   "source": [
    "# You can view the overlay using the overlayViewer function.\n",
    "overlayViewer(recon, kidney_labels)"
   ]
  },
  {
   "cell_type": "markdown",
   "metadata": {},
   "source": [
    "## Automatic Segmentation (no classification)"
   ]
  },
  {
   "cell_type": "code",
   "execution_count": null,
   "metadata": {},
   "outputs": [],
   "source": [
    "# Run the automatic segmentation without the final classification step to get masks for right and left kidney.\n",
    "# The function returns the 4D dataset and the 3D automatic segmentation masks.\n",
    "\n",
    "# kidney_labels: np.array containing the segmentation masks\n",
    "#               0 = BG, \n",
    "#               1 = Aorta (reserved)\n",
    "#               2 = L Kidney\n",
    "#               3 = R Kidney\n",
    "\n",
    "recon, kidney_labels = autoSegmentFromDicom(input_dir=input_directory, threshold_multiplier=1, skip_classification=True)"
   ]
  },
  {
   "cell_type": "code",
   "execution_count": null,
   "metadata": {},
   "outputs": [],
   "source": [
    "# You can view the overlay using the overlayViewer function.\n",
    "overlayViewer(recon, kidney_labels)"
   ]
  },
  {
   "cell_type": "markdown",
   "metadata": {},
   "source": [
    "## Automatic Segmentation (with Dicom output)"
   ]
  },
  {
   "cell_type": "code",
   "execution_count": null,
   "metadata": {},
   "outputs": [],
   "source": [
    "# You can specify an output directory to save the segmentation masks as Dicoms. \n",
    "# These Dicoms can be imported to Osirix and converted to ROIs using \"mask2RenalROI\" plugin."
   ]
  },
  {
   "cell_type": "code",
   "execution_count": null,
   "metadata": {},
   "outputs": [],
   "source": [
    "# You need to specify an output directory before running the function below to save the segmentation masks as Dicoms.\n",
    "output_directory = '/data/DicomOut/'"
   ]
  },
  {
   "cell_type": "code",
   "execution_count": null,
   "metadata": {},
   "outputs": [],
   "source": [
    "# Run the automatic segmentation algorithm. If the bulk segmentation fails, try increasing the threshold_multiplier.\n",
    "# The function returns the 4D dataset and the 3D automatic segmentation masks.\n",
    "# The input Dicoms has to be uncompressed.\n",
    "# If the classification is skipped, the kidney are mapped to L Cortex and R Cortex values.\n",
    "\n",
    "# dicom output: Dicom files containing the segmentation masks\n",
    "#               0 = BG, \n",
    "#               300 = Aorta (reserved)\n",
    "#               350 = L Cortex\n",
    "#               400 = R Cortex\n",
    "#               450 = L Medulla\n",
    "#               500 = R Medulla\n",
    "#               550 = L Collecting System\n",
    "#               600 = R Collecting System\n",
    "\n",
    "recon, kidney_labels = autoSegmentFromDicom(input_dir=input_directory, \n",
    "                                            output_dir=output_directory, \n",
    "                                            threshold_multiplier=1)"
   ]
  },
  {
   "cell_type": "code",
   "execution_count": null,
   "metadata": {},
   "outputs": [],
   "source": []
  }
 ],
 "metadata": {
  "anaconda-cloud": {},
  "kernelspec": {
   "display_name": "Python 3",
   "language": "python",
   "name": "python3"
  },
  "language_info": {
   "codemirror_mode": {
    "name": "ipython",
    "version": 3
   },
   "file_extension": ".py",
   "mimetype": "text/x-python",
   "name": "python",
   "nbconvert_exporter": "python",
   "pygments_lexer": "ipython3",
   "version": "3.6.2"
  }
 },
 "nbformat": 4,
 "nbformat_minor": 1
}
