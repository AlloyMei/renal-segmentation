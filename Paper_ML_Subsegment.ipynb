{
 "cells": [
  {
   "cell_type": "code",
   "execution_count": 1,
   "metadata": {
    "collapsed": true
   },
   "outputs": [],
   "source": [
    "# Based on ML_Subsegment_Dev_v4\n",
    "# Use ML_Subsegment_Dev_v2 to train and save models"
   ]
  },
  {
   "cell_type": "code",
   "execution_count": 2,
   "metadata": {
    "collapsed": false
   },
   "outputs": [],
   "source": [
    "%load_ext autoreload\n",
    "%autoreload 2\n",
    "%matplotlib inline\n",
    "import numpy as np\n",
    "import matplotlib.pyplot as plt"
   ]
  },
  {
   "cell_type": "code",
   "execution_count": 3,
   "metadata": {
    "collapsed": false
   },
   "outputs": [],
   "source": [
    "import os\n",
    "import h5py\n",
    "import time\n",
    "import pickle\n",
    "import warnings\n",
    "import subprocess\n",
    "\n",
    "from sklearn.decomposition import PCA\n",
    "from skimage.morphology import convex_hull_image\n",
    "from scipy.interpolate import interp1d\n",
    "from scipy.optimize import curve_fit\n",
    "from scipy.ndimage.filters import gaussian_filter, median_filter, maximum_filter, minimum_filter\n",
    "from scipy.stats import rankdata\n",
    "from scipy.ndimage.morphology import distance_transform_edt\n",
    "from sklearn.cluster import KMeans\n",
    "\n",
    "from Source.util import getPathsToVisit\n",
    "from Source.util import get_first_crossing_time, getBBox\n",
    "from Source.ipythonWidgets import overlayViewer, reconViewer"
   ]
  },
  {
   "cell_type": "code",
   "execution_count": 4,
   "metadata": {
    "collapsed": false
   },
   "outputs": [
    {
     "name": "stderr",
     "output_type": "stream",
     "text": [
      "/Users/umityoruk/anaconda/lib/python3.4/site-packages/sklearn/cross_validation.py:44: DeprecationWarning: This module was deprecated in version 0.18 in favor of the model_selection module into which all the refactored classes and functions are moved. Also note that the interface of the new CV iterators are different from that of this module. This module will be removed in 0.20.\n",
      "  \"This module will be removed in 0.20.\", DeprecationWarning)\n"
     ]
    }
   ],
   "source": [
    "from sklearn.metrics import classification_report\n",
    "from sklearn.svm import SVC\n",
    "from sklearn.ensemble import RandomForestClassifier, AdaBoostClassifier\n",
    "from sklearn.cross_validation import train_test_split"
   ]
  },
  {
   "cell_type": "code",
   "execution_count": 6,
   "metadata": {
    "collapsed": false
   },
   "outputs": [
    {
     "name": "stdout",
     "output_type": "stream",
     "text": [
      "Number of subjects: 2\n",
      "/Users/umityoruk/Documents/PythonDev/NewSegmentation/Data_LDHD/02\n"
     ]
    }
   ],
   "source": [
    "# Load a full dataset and test the classifier\n",
    "\n",
    "# pathsToVisit = getPathsToVisit('../ML/Train')\n",
    "# pathsToVisit = getPathsToVisit('../Data2')\n",
    "pathsToVisit = getPathsToVisit('../Data_LDHD')\n",
    "print('Number of subjects:', len(pathsToVisit))\n",
    "\n",
    "subjectPath = pathsToVisit[1]\n",
    "print(subjectPath)\n",
    "\n",
    "\n",
    "# # Load the dataset.\n",
    "# reconPath = os.path.join(subjectPath, 'recon_36p_crop.mat')\n",
    "# with h5py.File(reconPath) as f:\n",
    "#     recon = np.array(f['recon']).T\n",
    "# temp_res = 3.0\n",
    "# spacing = np.array([1.7, 1.4, 2.4])\n",
    "# ss_f = [1, 1, 1, 1]\n",
    "# train_short = True\n",
    "\n",
    "\n",
    "# Load the dataset.\n",
    "reconPath = os.path.join(subjectPath, 'recon4d_18p.hdf5')\n",
    "with h5py.File(reconPath) as f:\n",
    "    spacing = np.array(f['spacing'])\n",
    "    temp_res = np.array(f['temp_res']).astype(np.float)/1000\n",
    "    recon = np.array(f['recon'])\n",
    "ss_f = [2, 2, 2, 1]  # Subsampling factor [x,y,z,t]\n",
    "train_short = False\n",
    "load_true_labels = False\n",
    "\n",
    "\n",
    "# # Load the dataset.\n",
    "# reconPath = os.path.join(subjectPath, 'recon4d.hdf5')\n",
    "# with h5py.File(reconPath) as f:\n",
    "#     spacing = np.array(f['spacing'])\n",
    "#     temp_res = np.array(f['temp_res']).astype(np.float)/1000\n",
    "#     recon = np.array(f['recon'])\n",
    "# ss_f = [1, 1, 1, 1]\n",
    "# train_short = False\n",
    "\n",
    "\n",
    "recon = recon[::ss_f[0],::ss_f[1],::ss_f[2],::ss_f[3]]\n",
    "spacing = np.array([ss_f[0],ss_f[1],ss_f[2]])*spacing\n",
    "nx, ny, nz, nt = recon.shape\n",
    "\n",
    "# Load the grabcut labels\n",
    "gcLabelsPath = os.path.join(subjectPath, 'gc_labels.hdf5')\n",
    "with h5py.File(gcLabelsPath) as f:\n",
    "    gc_labels3d = np.array(f['gc_labels'])\n",
    "    \n",
    "# Generate the convex hull for the kidneys\n",
    "gc_convex_mask3d = gc_labels3d.copy()\n",
    "for cluster_id in np.unique(gc_labels3d):\n",
    "    if cluster_id == 0:\n",
    "        continue\n",
    "    cluster = gc_convex_mask3d == cluster_id\n",
    "    for zz in range(cluster.shape[2]):\n",
    "        bm = cluster[:,:,zz]\n",
    "        if np.sum(bm) == 0:\n",
    "            continue\n",
    "        bm = convex_hull_image(bm)\n",
    "        cluster[:,:,zz] = bm > 0\n",
    "    gc_convex_mask3d[cluster > 0] = cluster_id\n",
    "    \n",
    "if load_true_labels:\n",
    "    # Load the true labels.\n",
    "    labelsPath = os.path.join(subjectPath, 'labels.hdf5')\n",
    "    with h5py.File(labelsPath) as f:\n",
    "        true_labels3d = np.array(f['labels'])\n",
    "    true_labels3d = true_labels3d[::ss_f[0],::ss_f[1],::ss_f[2]]"
   ]
  },
  {
   "cell_type": "code",
   "execution_count": 7,
   "metadata": {
    "collapsed": true
   },
   "outputs": [],
   "source": [
    "labels3d = gc_labels3d\n",
    "convex_mask3d = gc_convex_mask3d"
   ]
  },
  {
   "cell_type": "code",
   "execution_count": 8,
   "metadata": {
    "collapsed": false
   },
   "outputs": [
    {
     "name": "stderr",
     "output_type": "stream",
     "text": [
      "/Users/umityoruk/anaconda/lib/python3.4/site-packages/sklearn/base.py:315: UserWarning: Trying to unpickle estimator SVC from version pre-0.18 when using version 0.18. This might lead to breaking code or invalid results. Use at your own risk.\n",
      "  UserWarning)\n"
     ]
    }
   ],
   "source": [
    "if train_short:\n",
    "    model_filename = os.path.join(os.getcwd(), '../Model', 'subsegment_model_90.pkl')\n",
    "else:\n",
    "    model_filename = os.path.join(os.getcwd(), '../Model', 'subsegment_model_180.pkl')\n",
    "    \n",
    "with open(model_filename, 'rb') as f:\n",
    "    model = pickle.load(f)\n",
    "\n",
    "classifier = model['classifier']\n",
    "X_mean = model['mean']\n",
    "X_std = model['std']"
   ]
  },
  {
   "cell_type": "code",
   "execution_count": 9,
   "metadata": {
    "collapsed": false
   },
   "outputs": [
    {
     "data": {
      "text/plain": [
       "{'classifier': SVC(C=10, cache_size=200, class_weight=None, coef0=0.0,\n",
       "   decision_function_shape=None, degree=3, gamma=0.1, kernel='rbf',\n",
       "   max_iter=-1, probability=False, random_state=None, shrinking=True,\n",
       "   tol=0.001, verbose=False),\n",
       " 'mean': array([[ -1.18583635e-02,   2.85547461e-03,  -3.96282764e-05,\n",
       "          -2.48503487e-03,  -4.79743522e-03,  -4.39042059e-03,\n",
       "          -8.10190040e-03,  -3.52822405e-03,   2.55660161e+01,\n",
       "           9.52287179e+01,   2.99967905e+00]]),\n",
       " 'std': array([[  0.99873599,   0.99666075,   0.99358505,   0.98681498,\n",
       "           0.99222262,   0.9882177 ,   0.99164924,   0.99317097,\n",
       "          45.28821426,  74.90282987,   4.89445245]])}"
      ]
     },
     "execution_count": 9,
     "metadata": {},
     "output_type": "execute_result"
    }
   ],
   "source": [
    "model"
   ]
  },
  {
   "cell_type": "code",
   "execution_count": null,
   "metadata": {
    "collapsed": true
   },
   "outputs": [],
   "source": []
  },
  {
   "cell_type": "code",
   "execution_count": null,
   "metadata": {
    "collapsed": true
   },
   "outputs": [],
   "source": []
  },
  {
   "cell_type": "code",
   "execution_count": 10,
   "metadata": {
    "collapsed": false
   },
   "outputs": [
    {
     "name": "stdout",
     "output_type": "stream",
     "text": [
      "Elapsed time: 2.207192897796631\n"
     ]
    }
   ],
   "source": [
    "tic = time.time()\n",
    "prediction3d = np.zeros((nx, ny, nz), dtype=np.int)\n",
    "for cluster_id in np.unique(labels3d):\n",
    "    if cluster_id == 0:\n",
    "        continue\n",
    "\n",
    "    # Calculate the bounding box\n",
    "    convex_mask = convex_mask3d == cluster_id\n",
    "    if np.sum(convex_mask) == 0:\n",
    "        continue\n",
    "    bbox = getBBox(convex_mask)\n",
    "    bb_l, bb_h = bbox\n",
    "    recon_bbox = recon[bb_l[0]:bb_h[0], bb_l[1]:bb_h[1], bb_l[2]:bb_h[2], :].copy()\n",
    "    convex_mask_bbox = convex_mask[bb_l[0]:bb_h[0], bb_l[1]:bb_h[1], bb_l[2]:bb_h[2]].copy()\n",
    "    nx_bb, ny_bb, nz_bb = convex_mask_bbox.shape\n",
    "\n",
    "    if issubclass(recon_bbox.dtype.type, np.integer):\n",
    "        recon_bbox -= np.amin(recon_bbox)\n",
    "        # Use look up table\n",
    "        lut = np.arange(np.amax(recon_bbox)+1).astype(np.float)\n",
    "        lut = (lut/np.amax(lut)*255).astype(np.uint8)\n",
    "        recon_bbox = lut[recon_bbox]\n",
    "    else:\n",
    "        recon_bbox -= np.amin(recon_bbox)\n",
    "        recon_bbox /= np.amax(recon_bbox)\n",
    "        recon_bbox = (recon_bbox*255).astype(np.uint8)\n",
    "\n",
    "    sig = recon_bbox.reshape(-1, nt)\n",
    "    mean_sig = np.mean(sig, axis=0, keepdims=True)\n",
    "\n",
    "    sample_time = np.array([0, 30, 60, 90, 120, 150, 180]) # seconds after contrast arrives\n",
    "    t_10p = get_first_crossing_time(mean_sig, 0.10)[0]\n",
    "    t_10p = np.floor(t_10p).astype(np.int)\n",
    "    t_start = max(t_10p, 0)\n",
    "    sample_idx = t_start + np.ceil(sample_time/temp_res).astype(np.int)\n",
    "    sample_idx[sample_idx > nt-1] = nt-1\n",
    "    \n",
    "    \n",
    "    if train_short:\n",
    "            sample_time = np.array([0, 30, 60, 90]) # seconds after contrast arrives\n",
    "            t_10p = get_first_crossing_time(mean_sig, 0.10)[0]\n",
    "            t_10p = np.floor(t_10p).astype(np.int)\n",
    "            t_start = max(t_10p, 0)\n",
    "            sample_idx = t_start + np.ceil(sample_time/temp_res).astype(np.int)\n",
    "            sample_idx[sample_idx > nt-1] = nt-1\n",
    "            sig = sig[:,:sample_idx[-1]+1]\n",
    "\n",
    "\n",
    "    sig_sample = sig[:,sample_idx].astype(np.float).copy()\n",
    "    \n",
    "    sig_min = np.amin(sig, axis=1, keepdims=True)\n",
    "    sig_max = np.amax(sig, axis=1, keepdims=True)\n",
    "    sig_diff = sig_max - sig_min\n",
    "    sig_sample = np.hstack((sig_sample, sig_diff))\n",
    "\n",
    "    sig_sample -= np.mean(sig_sample, axis=0, keepdims=True)\n",
    "    sig_sample /= np.std(sig_sample, axis=0, keepdims=True)\n",
    "\n",
    "    t_ref = get_first_crossing_time(mean_sig, 0.10)[0]\n",
    "    t_50p = (get_first_crossing_time(sig, 0.50) - t_ref)*temp_res\n",
    "    t_90p = (get_first_crossing_time(sig, 0.90) - t_ref)*temp_res\n",
    "\n",
    "    t_feat = np.vstack((t_50p, t_90p)).T\n",
    "\n",
    "    dist = distance_transform_edt(convex_mask_bbox, sampling=spacing).reshape(-1,1)\n",
    "    \n",
    "    features = np.hstack((sig_sample, t_feat, dist))\n",
    "    \n",
    "    X_test = features.copy()\n",
    "    \n",
    "    X_test -= X_mean\n",
    "    X_test /= X_std\n",
    "\n",
    "    pred_test = classifier.predict(X_test)\n",
    "    \n",
    "    pred_test = pred_test*convex_mask_bbox.ravel()\n",
    "    \n",
    "    pred_labels3d = pred_test.reshape(nx_bb, ny_bb, nz_bb)\n",
    "    \n",
    "    prediction3d_bbox = prediction3d[bb_l[0]:bb_h[0], bb_l[1]:bb_h[1], bb_l[2]:bb_h[2]]\n",
    "    prediction3d_bbox[pred_labels3d > 0] = pred_labels3d[pred_labels3d > 0]\n",
    "print('Elapsed time:', time.time()-tic)"
   ]
  },
  {
   "cell_type": "code",
   "execution_count": 11,
   "metadata": {
    "collapsed": true
   },
   "outputs": [],
   "source": [
    "overlayViewer(recon, prediction3d, zz=nz//3, tt=nt//2)"
   ]
  },
  {
   "cell_type": "code",
   "execution_count": 12,
   "metadata": {
    "collapsed": true
   },
   "outputs": [],
   "source": [
    "if load_true_labels:\n",
    "    overlayViewer(recon, true_labels3d, zz=nz//3, tt=nt//2)"
   ]
  },
  {
   "cell_type": "code",
   "execution_count": 96,
   "metadata": {
    "collapsed": true
   },
   "outputs": [],
   "source": [
    "if load_true_labels:\n",
    "    true_labels_relabel = np.array([0, 0, 1, 1, 2, 2, 3, 3])\n",
    "    true_labels_combined = true_labels_relabel[true_labels3d]"
   ]
  },
  {
   "cell_type": "code",
   "execution_count": 97,
   "metadata": {
    "collapsed": true
   },
   "outputs": [],
   "source": [
    "if load_true_labels:\n",
    "    overlayViewer(recon, true_labels_combined, zz=nz//3, tt=nt//2)"
   ]
  },
  {
   "cell_type": "code",
   "execution_count": 98,
   "metadata": {
    "collapsed": false
   },
   "outputs": [
    {
     "name": "stdout",
     "output_type": "stream",
     "text": [
      "             precision    recall  f1-score   support\n",
      "\n",
      "          0       0.99      1.00      1.00   3209640\n",
      "          1       0.86      0.89      0.87     24420\n",
      "          2       0.82      0.73      0.77      6954\n",
      "          3       0.93      0.25      0.39     35786\n",
      "\n",
      "avg / total       0.99      0.99      0.99   3276800\n",
      "\n"
     ]
    }
   ],
   "source": [
    "if load_true_labels:\n",
    "    print(classification_report(true_labels_combined.ravel(), prediction3d.ravel()))"
   ]
  },
  {
   "cell_type": "code",
   "execution_count": 105,
   "metadata": {
    "collapsed": false
   },
   "outputs": [
    {
     "data": {
      "image/png": "[encoded data removed]",
      "text/plain": [
       "<matplotlib.figure.Figure at 0x111dbfac8>"
      ]
     },
     "metadata": {},
     "output_type": "display_data"
    }
   ],
   "source": [
    "crop_x = [0, 120]\n",
    "crop_y = [50, 200]\n",
    "\n",
    "zz = 13\n",
    "tt = 49\n",
    "overlay_im = prediction3d[:,:,zz].copy()\n",
    "o_min = np.amin(overlay_im)\n",
    "o_max = np.amax(overlay_im)\n",
    "\n",
    "overlay_im = overlay_im[crop_x[0]:crop_x[1], crop_y[0]:crop_y[1]]\n",
    "\n",
    "overlay_mask = np.ma.masked_where(overlay_im <= 0, overlay_im)\n",
    "im = recon[:,:,zz,tt]\n",
    "\n",
    "im = im[crop_x[0]:crop_x[1], crop_y[0]:crop_y[1]]\n",
    "\n",
    "plt.figure(figsize=(8,6))\n",
    "plt.imshow(im, interpolation='none', cmap=plt.cm.gray)\n",
    "plt.imshow(overlay_mask, interpolation='none', cmap=plt.cm.jet, vmin=o_min, vmax=o_max, alpha=1.0)\n",
    "plt.gca().xaxis.set_visible(False)\n",
    "plt.gca().yaxis.set_visible(False)\n",
    "# save_format = ['svg','pdf']\n",
    "# for ext in save_format:\n",
    "#     filename = os.path.join('/Users/umityoruk/Desktop/', 'success8' + '.' + ext)\n",
    "#     plt.savefig(filename, bbox_inches='tight')"
   ]
  },
  {
   "cell_type": "code",
   "execution_count": 34,
   "metadata": {
    "collapsed": false
   },
   "outputs": [
    {
     "data": {
      "text/plain": [
       "<matplotlib.image.AxesImage at 0x11daf8208>"
      ]
     },
     "execution_count": 34,
     "metadata": {},
     "output_type": "execute_result"
    },
    {
     "data": {
      "image/png": "[encoded data removed]",
      "text/plain": [
       "<matplotlib.figure.Figure at 0x11d916278>"
      ]
     },
     "metadata": {},
     "output_type": "display_data"
    }
   ],
   "source": [
    "# Relabel kidney regions\n",
    "# 0 - background\n",
    "# 1 - aorta\n",
    "# 2 - left cortex\n",
    "# 3 - right cortex\n",
    "# 4 - left medulla\n",
    "# 5 - right medulla\n",
    "# 6 - left collecting system\n",
    "# 7 - right collecting system\n",
    "\n",
    "y_centers = []\n",
    "for i in range(1, np.amax(gc_labels3d)+1):\n",
    "    y_center = np.mean(np.where(gc_labels3d==i)[1])\n",
    "    y_centers.append((i, y_center))\n",
    "y_centers = sorted(y_centers, key=lambda x: x[1])\n",
    "label_offsets = []\n",
    "if len(y_centers) == 1:\n",
    "    y_center = y_centers[0]\n",
    "    if y_center[1] > ny//2:\n",
    "        offset = 0\n",
    "    else:\n",
    "        offset = 1\n",
    "    label_offsets.append((y_center[0], offset))\n",
    "elif len(y_centers) == 2:\n",
    "    label_offsets.append((y_centers[0][0], 1))\n",
    "    label_offsets.append((y_centers[1][0], 0))\n",
    "else:\n",
    "    print('Number of kindeys out of handling capability!')\n",
    "\n",
    "ml_labels3d = np.zeros_like(gc_labels3d)\n",
    "for label_offset in label_offsets:\n",
    "    gc_select, offset = label_offset\n",
    "    gc_mask = gc_labels3d == gc_select\n",
    "    for subseg_select in range(1,4):\n",
    "        subseg_mask = prediction3d == subseg_select\n",
    "        ml_labels3d[gc_mask * subseg_mask] = subseg_select*2 + offset\n",
    "        \n",
    "zz = 18\n",
    "plt.figure()\n",
    "plt.imshow(ml_labels3d[:,:,zz])"
   ]
  },
  {
   "cell_type": "code",
   "execution_count": null,
   "metadata": {
    "collapsed": true
   },
   "outputs": [],
   "source": [
    "outputPath = os.path.join(subjectPath, 'ml_labels.hdf5')\n",
    "with h5py.File(outputPath, 'w') as f:\n",
    "    dset = f.create_dataset('ml_labels', data=ml_labels3d, compression='gzip')"
   ]
  }
 ],
 "metadata": {
  "anaconda-cloud": {},
  "kernelspec": {
   "display_name": "Python [default]",
   "language": "python",
   "name": "python3"
  },
  "language_info": {
   "codemirror_mode": {
    "name": "ipython",
    "version": 3
   },
   "file_extension": ".py",
   "mimetype": "text/x-python",
   "name": "python",
   "nbconvert_exporter": "python",
   "pygments_lexer": "ipython3",
   "version": "3.4.5"
  }
 },
 "nbformat": 4,
 "nbformat_minor": 0
}
